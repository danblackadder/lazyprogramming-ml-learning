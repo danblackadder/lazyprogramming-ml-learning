{
 "cells": [
  {
   "cell_type": "code",
   "execution_count": 13,
   "metadata": {},
   "outputs": [],
   "source": [
    "import numpy as np\n",
    "import scipy.integrate as integrate"
   ]
  },
  {
   "cell_type": "code",
   "execution_count": 8,
   "metadata": {},
   "outputs": [
    {
     "data": {
      "text/plain": [
       "array([0.        , 0.33333333, 0.66666667, 1.        , 1.33333333,\n",
       "       1.66666667, 2.        , 2.33333333, 2.66666667, 3.        ])"
      ]
     },
     "execution_count": 8,
     "metadata": {},
     "output_type": "execute_result"
    }
   ],
   "source": [
    "np.linspace(0, 3, 10)"
   ]
  },
  {
   "cell_type": "code",
   "execution_count": 16,
   "metadata": {},
   "outputs": [
    {
     "name": "stdout",
     "output_type": "stream",
     "text": [
      "True area: 2.333333333333333\n",
      "Estimated area: 2.333333249833083\n",
      "Scipy area: (2.3333333333333335, 2.590520390792032e-14)\n"
     ]
    }
   ],
   "source": [
    "# f(x) = x^2\n",
    "# F(x) = (1/3) x^3\n",
    "# find: area from [1, 2]\n",
    "\n",
    "true_area = (1 / 3) * 2**3 - (1 / 3) * 1**3 # F(x)\n",
    "scipy_estimate = integrate.quad(lambda x: x**2, 1, 2)\n",
    "\n",
    "estimated_area = 0\n",
    "x_values = np.linspace(1, 2, 1000)\n",
    "for i in range(len(x_values) - 1):\n",
    "  x1 = x_values[i]\n",
    "  x2 = x_values[i + 1]\n",
    "  width = x2 - x1\n",
    "  x_mid = (x1 + x2) / 2\n",
    "  height = x_mid**2 # f(x)\n",
    "  estimated_area += width * height\n",
    "\n",
    "print(f\"True area: {true_area}\")\n",
    "print(f\"Estimated area: {estimated_area}\")\n",
    "print(f\"Scipy area: {scipy_estimate}\")"
   ]
  },
  {
   "cell_type": "code",
   "execution_count": 17,
   "metadata": {},
   "outputs": [
    {
     "name": "stdout",
     "output_type": "stream",
     "text": [
      "True area: 2.0\n",
      "Estimated area: 2.0000008241146756\n",
      "Scipy area: (2.0, 2.220446049250313e-14)\n"
     ]
    }
   ],
   "source": [
    "# f(x) = sin(x)\n",
    "# F(x) = -cos(x)\n",
    "# find: area from [0, pi]\n",
    "\n",
    "true_area = -np.cos(np.pi) - (-np.cos(0)) # F(x)\n",
    "scipy_estimate = integrate.quad(lambda x: np.sin(x), 0, np.pi)\n",
    "\n",
    "estimated_area = 0 # we will accumulate rectangles\n",
    "x_values = np.linspace(0, np.pi, 1000)\n",
    "for i in range(len(x_values) - 1):\n",
    "  x1 = x_values[i]\n",
    "  x2 = x_values[i + 1]\n",
    "  width = x2 - x1\n",
    "  x_mid = (x1 + x2) / 2\n",
    "  height = np.sin(x_mid) # f(x)\n",
    "  estimated_area += width * height\n",
    "\n",
    "print(f\"True area: {true_area}\")\n",
    "print(f\"Estimated area: {estimated_area}\")\n",
    "print(f\"Scipy area: {scipy_estimate}\")"
   ]
  },
  {
   "cell_type": "code",
   "execution_count": null,
   "metadata": {},
   "outputs": [],
   "source": []
  }
 ],
 "metadata": {
  "kernelspec": {
   "display_name": "Python 3",
   "language": "python",
   "name": "python3"
  },
  "language_info": {
   "codemirror_mode": {
    "name": "ipython",
    "version": 3
   },
   "file_extension": ".py",
   "mimetype": "text/x-python",
   "name": "python",
   "nbconvert_exporter": "python",
   "pygments_lexer": "ipython3",
   "version": "3.9.13"
  },
  "orig_nbformat": 4
 },
 "nbformat": 4,
 "nbformat_minor": 2
}
