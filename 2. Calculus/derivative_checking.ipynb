{
 "cells": [
  {
   "cell_type": "code",
   "execution_count": 13,
   "metadata": {},
   "outputs": [],
   "source": [
    "# Quadratic\n",
    "\n",
    "# f(x) = x ^ 2\n",
    "# f'(x) = ?\n"
   ]
  },
  {
   "cell_type": "markdown",
   "metadata": {},
   "source": [
    "$\\lim\\limits_{h \\to 0} \\frac{f(x+h) - f(x)}{h}$\n",
    "\n",
    "$\\lim\\limits_{h \\to 0} \\frac{(x+h)^2 - x^2}{h}$\n",
    "\n",
    "$\\lim\\limits_{h \\to 0} \\frac{x^2 + 2xh + h^2 - x^2}{h}$\n",
    "\n",
    "$\\lim\\limits_{h \\to 0} \\frac{2xh + h^2}{h}$\n",
    "\n",
    "$\\lim\\limits_{h \\to 0} 2x+h$\n",
    "\n",
    "$\\lim\\limits_{h \\to 0} 2x$"
   ]
  },
  {
   "cell_type": "code",
   "execution_count": 14,
   "metadata": {},
   "outputs": [
    {
     "name": "stdout",
     "output_type": "stream",
     "text": [
      "Estimate: 4.000000330961484\n",
      "True: 4\n"
     ]
    }
   ],
   "source": [
    "# f'(x) = 2x\n",
    "\n",
    "h = 1e-10\n",
    "x = 2\n",
    "\n",
    "print(f\"Estimate: {((x + h)**2 - x**2) / h}\")\n",
    "print(f\"True: {2*x}\")"
   ]
  },
  {
   "cell_type": "code",
   "execution_count": 15,
   "metadata": {},
   "outputs": [],
   "source": [
    "# Cubic\n",
    "\n",
    "# f(x) = x ^ 3\n",
    "# f'(x) = ?\n"
   ]
  },
  {
   "cell_type": "markdown",
   "metadata": {},
   "source": [
    "$\\lim\\limits_{h \\to 0} \\frac{f(x+h) - f(x)}{h}$\n",
    "\n",
    "$\\lim\\limits_{h \\to 0} \\frac{(x+h)^3 - x^3}{h}$\n",
    "\n",
    "$\\lim\\limits_{h \\to 0} \\frac{(x+h)(x^2 + 2xh + h^2) - x^3}{h}$\n",
    "\n",
    "$\\lim\\limits_{h \\to 0} \\frac{(x^3 + 2x^2h + xh^2 + x^2h + 2xh^2 + h^3) - x^3}{h}$\n",
    "\n",
    "$\\lim\\limits_{h \\to 0} \\frac{(x^3 + 3x^2h + 3xh^2 + h^3) - x^3}{h}$\n",
    "\n",
    "$\\lim\\limits_{h \\to 0} \\frac{3x^2h + 3xh^2 + h^3}{h}$\n",
    "\n",
    "$\\lim\\limits_{h \\to 0} 3x^2 + 3xh + h^2$\n",
    "\n",
    "$\\lim\\limits_{h \\to 0} 3x^2$"
   ]
  },
  {
   "cell_type": "code",
   "execution_count": 16,
   "metadata": {},
   "outputs": [
    {
     "name": "stdout",
     "output_type": "stream",
     "text": [
      "Estimate: 12.000000992884452\n",
      "True: 12\n"
     ]
    }
   ],
   "source": [
    "# f'(x) = 3x ^ 2\n",
    "\n",
    "h = 1e-10\n",
    "x = 2\n",
    "\n",
    "print(f\"Estimate: {((x + h)**3 - x**3) / h}\")\n",
    "print(f\"True: {3 * x ** 2}\")"
   ]
  },
  {
   "cell_type": "code",
   "execution_count": 17,
   "metadata": {},
   "outputs": [],
   "source": [
    "# Reciprocal\n",
    "\n",
    "# f(x) = 1 / x\n",
    "# f'(x) = ?\n"
   ]
  },
  {
   "cell_type": "markdown",
   "metadata": {},
   "source": [
    "$\\lim\\limits_{h \\to 0} \\frac{f(x + h) - f(x)}{h}$\n",
    "\n",
    "$\\lim\\limits_{h \\to 0} \\frac{\\frac{1}{x+h} - \\frac{1}{x}}{h}$\n",
    "\n",
    "$\\lim\\limits_{h \\to 0} \\frac{1}{h}\\cdot\\left(\\frac{1}{x+h}-\\frac{1}{x}\\right)$\n",
    "\n",
    "$\\lim\\limits_{h \\to 0} \\frac{1}{h}\\cdot\\left(\\frac{x-(x+h)}{x(x+h)}\\right)$\n",
    "\n",
    "$\\lim\\limits_{h \\to 0} \\frac{1}{h}\\cdot\\left(\\frac{-h}{x(x+h)}\\right)$\n",
    "\n",
    "$\\lim\\limits_{h \\to 0} \\frac{1}{h}\\cdot\\left(\\frac{-h}{x(x+h)}\\right)$\n",
    "\n",
    "$\\lim\\limits_{h \\to 0} \\frac{-1}{x(x+h)}$\n",
    "\n",
    "$\\lim\\limits_{h \\to 0} \\frac{-1}{x*x + x*h}$\n",
    "\n",
    "$\\lim\\limits_{h \\to 0} \\frac{-1}{x^2}$\n",
    "\n",
    "$\\lim\\limits_{h \\to 0} -x^-2$\n",
    "\n"
   ]
  },
  {
   "cell_type": "code",
   "execution_count": 22,
   "metadata": {},
   "outputs": [
    {
     "name": "stdout",
     "output_type": "stream",
     "text": [
      "Estimate: -1.000000082740371\n",
      "True: -1.0\n"
     ]
    }
   ],
   "source": [
    "# f'(x) = -x ^ -2\n",
    "\n",
    "h = 1e-10\n",
    "x = 1\n",
    "\n",
    "print(f\"Estimate: {((1/(x + h)) - (1/x)) / h}\")\n",
    "print(f\"True: {-x**-2}\")"
   ]
  },
  {
   "cell_type": "code",
   "execution_count": null,
   "metadata": {},
   "outputs": [],
   "source": [
    "# Root\n",
    "\n",
    "# f(x) = x ^ 0.5 (square root of x)\n",
    "# f'(x) = ?"
   ]
  },
  {
   "cell_type": "markdown",
   "metadata": {},
   "source": [
    "$\\lim\\limits_{h \\to 0} \\frac{f(x + h) - f(x)}{h}$\n",
    "\n",
    "$\\lim\\limits_{h \\to 0} \\frac{\\sqrt(x + h) - \\sqrt x}{h}$\n",
    "\n",
    "multiply by the conjugate - to rationalise the numerator\n",
    "\n",
    "$\\lim\\limits_{h \\to 0} \\frac{\\sqrt(x + h) - \\sqrt x}{h}\\cdot\\frac{\\sqrt(x + h) + \\sqrt x}{\\sqrt(x + h) + \\sqrt x}$\n",
    "\n",
    "$\\lim\\limits_{h \\to 0} \\frac{x + h - x}{h\\left(\\sqrt(x + h) + \\sqrt x\\right)}$\n",
    "\n",
    "$\\lim\\limits_{h \\to 0} \\frac{h}{h\\left(\\sqrt(x + h) + \\sqrt x\\right)}$\n",
    "\n",
    "$\\lim\\limits_{h \\to 0} \\frac{1}{\\sqrt(x + h) + \\sqrt x}$\n",
    "\n",
    "$\\lim\\limits_{h \\to 0} \\frac{1}{2\\sqrt x}$\n",
    "\n",
    "$\\lim\\limits_{h \\to 0} \\frac{1}{2}x^{-\\frac{1}{2}}$\n"
   ]
  },
  {
   "cell_type": "code",
   "execution_count": 24,
   "metadata": {},
   "outputs": [
    {
     "name": "stdout",
     "output_type": "stream",
     "text": [
      "Estimate: 0.2886757499709347\n",
      "True: 0.28867513459481287\n"
     ]
    }
   ],
   "source": [
    "# f'(x) = 0.5x ^ -0.5\n",
    "\n",
    "import math\n",
    "\n",
    "h = 1e-10\n",
    "x = 3\n",
    "\n",
    "print(f\"Estimate: {(math.sqrt(x + h) - math.sqrt(x))/ h}\")\n",
    "print(f\"True: {0.5*x**-0.5}\")"
   ]
  },
  {
   "cell_type": "code",
   "execution_count": null,
   "metadata": {},
   "outputs": [],
   "source": []
  }
 ],
 "metadata": {
  "kernelspec": {
   "display_name": "Python 3",
   "language": "python",
   "name": "python3"
  },
  "language_info": {
   "codemirror_mode": {
    "name": "ipython",
    "version": 3
   },
   "file_extension": ".py",
   "mimetype": "text/x-python",
   "name": "python",
   "nbconvert_exporter": "python",
   "pygments_lexer": "ipython3",
   "version": "3.9.13"
  },
  "orig_nbformat": 4
 },
 "nbformat": 4,
 "nbformat_minor": 2
}
