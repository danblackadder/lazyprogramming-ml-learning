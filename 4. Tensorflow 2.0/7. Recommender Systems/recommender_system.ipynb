{
 "cells": [
  {
   "cell_type": "code",
   "execution_count": 1,
   "metadata": {},
   "outputs": [],
   "source": [
    "import tensorflow as tf"
   ]
  },
  {
   "cell_type": "code",
   "execution_count": 2,
   "metadata": {},
   "outputs": [],
   "source": [
    "# More imports\n",
    "from tensorflow.keras.layers import Input, Dense, Embedding, Flatten, \\\n",
    "  Concatenate\n",
    "from tensorflow.keras.models import Model\n",
    "from tensorflow.keras.optimizers import SGD, Adam\n",
    "\n",
    "from sklearn.utils import shuffle\n",
    "\n",
    "import numpy as np\n",
    "import pandas as pd\n",
    "import matplotlib.pyplot as plt"
   ]
  },
  {
   "cell_type": "code",
   "execution_count": 3,
   "metadata": {},
   "outputs": [],
   "source": [
    "df = pd.read_csv('./ratings.csv')\n",
    "movies_df = pd.read_csv('./movies.csv')"
   ]
  },
  {
   "cell_type": "code",
   "execution_count": 4,
   "metadata": {},
   "outputs": [
    {
     "data": {
      "text/html": [
       "<div>\n",
       "<style scoped>\n",
       "    .dataframe tbody tr th:only-of-type {\n",
       "        vertical-align: middle;\n",
       "    }\n",
       "\n",
       "    .dataframe tbody tr th {\n",
       "        vertical-align: top;\n",
       "    }\n",
       "\n",
       "    .dataframe thead th {\n",
       "        text-align: right;\n",
       "    }\n",
       "</style>\n",
       "<table border=\"1\" class=\"dataframe\">\n",
       "  <thead>\n",
       "    <tr style=\"text-align: right;\">\n",
       "      <th></th>\n",
       "      <th>userId</th>\n",
       "      <th>movieId</th>\n",
       "      <th>rating</th>\n",
       "      <th>timestamp</th>\n",
       "    </tr>\n",
       "  </thead>\n",
       "  <tbody>\n",
       "    <tr>\n",
       "      <th>0</th>\n",
       "      <td>1</td>\n",
       "      <td>296</td>\n",
       "      <td>5.0</td>\n",
       "      <td>1147880044</td>\n",
       "    </tr>\n",
       "    <tr>\n",
       "      <th>1</th>\n",
       "      <td>1</td>\n",
       "      <td>306</td>\n",
       "      <td>3.5</td>\n",
       "      <td>1147868817</td>\n",
       "    </tr>\n",
       "    <tr>\n",
       "      <th>2</th>\n",
       "      <td>1</td>\n",
       "      <td>307</td>\n",
       "      <td>5.0</td>\n",
       "      <td>1147868828</td>\n",
       "    </tr>\n",
       "    <tr>\n",
       "      <th>3</th>\n",
       "      <td>1</td>\n",
       "      <td>665</td>\n",
       "      <td>5.0</td>\n",
       "      <td>1147878820</td>\n",
       "    </tr>\n",
       "    <tr>\n",
       "      <th>4</th>\n",
       "      <td>1</td>\n",
       "      <td>899</td>\n",
       "      <td>3.5</td>\n",
       "      <td>1147868510</td>\n",
       "    </tr>\n",
       "  </tbody>\n",
       "</table>\n",
       "</div>"
      ],
      "text/plain": [
       "   userId  movieId  rating   timestamp\n",
       "0       1      296     5.0  1147880044\n",
       "1       1      306     3.5  1147868817\n",
       "2       1      307     5.0  1147868828\n",
       "3       1      665     5.0  1147878820\n",
       "4       1      899     3.5  1147868510"
      ]
     },
     "execution_count": 4,
     "metadata": {},
     "output_type": "execute_result"
    }
   ],
   "source": [
    "df.head()"
   ]
  },
  {
   "cell_type": "code",
   "execution_count": 7,
   "metadata": {},
   "outputs": [
    {
     "data": {
      "text/plain": [
       "array([     1,      1,      1, ..., 162541, 162541, 162541], dtype=int64)"
      ]
     },
     "execution_count": 7,
     "metadata": {},
     "output_type": "execute_result"
    }
   ],
   "source": [
    "df['userId'].values"
   ]
  },
  {
   "cell_type": "code",
   "execution_count": 8,
   "metadata": {},
   "outputs": [
    {
     "data": {
      "text/plain": [
       "array([  296,   306,   307, ..., 56176, 58559, 63876], dtype=int64)"
      ]
     },
     "execution_count": 8,
     "metadata": {},
     "output_type": "execute_result"
    }
   ],
   "source": [
    "df['movieId'].values"
   ]
  },
  {
   "cell_type": "code",
   "execution_count": 9,
   "metadata": {},
   "outputs": [],
   "source": [
    "df.userId = pd.Categorical(df.userId)\n",
    "df['new_user_id'] = df.userId.cat.codes"
   ]
  },
  {
   "cell_type": "code",
   "execution_count": 10,
   "metadata": {},
   "outputs": [],
   "source": [
    "df.movieId = pd.Categorical(df.movieId)\n",
    "df['new_movie_id'] = df.movieId.cat.codes"
   ]
  },
  {
   "cell_type": "code",
   "execution_count": 11,
   "metadata": {},
   "outputs": [],
   "source": [
    "user_ids = df['new_user_id'].values\n",
    "movie_ids = df['new_movie_id'].values\n",
    "ratings = df['rating'].values"
   ]
  },
  {
   "cell_type": "code",
   "execution_count": 12,
   "metadata": {},
   "outputs": [],
   "source": [
    "# Get number of users and number of movies\n",
    "N = len(set(user_ids))\n",
    "M = len(set(movie_ids))\n",
    "\n",
    "# Set embedding dimension\n",
    "K = 10"
   ]
  },
  {
   "cell_type": "code",
   "execution_count": 13,
   "metadata": {},
   "outputs": [
    {
     "data": {
      "text/plain": [
       "162541"
      ]
     },
     "execution_count": 13,
     "metadata": {},
     "output_type": "execute_result"
    }
   ],
   "source": [
    "N"
   ]
  },
  {
   "cell_type": "code",
   "execution_count": 14,
   "metadata": {},
   "outputs": [
    {
     "data": {
      "text/plain": [
       "59047"
      ]
     },
     "execution_count": 14,
     "metadata": {},
     "output_type": "execute_result"
    }
   ],
   "source": [
    "M"
   ]
  },
  {
   "cell_type": "code",
   "execution_count": 15,
   "metadata": {},
   "outputs": [
    {
     "data": {
      "text/plain": [
       "10"
      ]
     },
     "execution_count": 15,
     "metadata": {},
     "output_type": "execute_result"
    }
   ],
   "source": [
    "K"
   ]
  },
  {
   "cell_type": "code",
   "execution_count": 16,
   "metadata": {},
   "outputs": [],
   "source": [
    "# Make a neural network\n",
    "\n",
    "# User input\n",
    "u = Input(shape=(1,))\n",
    "\n",
    "# Movie input\n",
    "m = Input(shape=(1,))\n",
    "\n",
    "# User embedding\n",
    "u_emb = Embedding(N, K)(u) # output is (num_samples, 1, K)\n",
    "\n",
    "# Movie embedding\n",
    "m_emb = Embedding(M, K)(m) # output is (num_samples, 1, K)\n",
    "\n",
    "# Flatten both embeddings\n",
    "u_emb = Flatten()(u_emb) # now it's (num_samples, K)\n",
    "m_emb = Flatten()(m_emb) # now it's (num_samples, K)\n",
    "\n",
    "# Concatenate user-movie embeddings into a feature vector\n",
    "x = Concatenate()([u_emb, m_emb]) # now it's (num_samples, 2K)\n",
    "\n",
    "# Now that we have a feature vector, it's just a regular ANN\n",
    "x = Dense(1024, activation='relu')(x)\n",
    "# x = Dense(400, activation='relu')(x)\n",
    "# x = Dense(400, activation='relu')(x)\n",
    "x = Dense(1)(x)"
   ]
  },
  {
   "cell_type": "code",
   "execution_count": 17,
   "metadata": {},
   "outputs": [],
   "source": [
    "# Build the model and compile\n",
    "model = Model(inputs=[u, m], outputs=x)\n",
    "model.compile(\n",
    "  loss='mse',\n",
    "  optimizer=SGD(learning_rate=0.08, momentum=0.9),\n",
    ")"
   ]
  },
  {
   "cell_type": "code",
   "execution_count": 18,
   "metadata": {},
   "outputs": [],
   "source": [
    "# split the data\n",
    "user_ids, movie_ids, ratings = shuffle(user_ids, movie_ids, ratings)\n",
    "Ntrain = int(0.8 * len(ratings))\n",
    "train_user = user_ids[:Ntrain]\n",
    "train_movie = movie_ids[:Ntrain]\n",
    "train_ratings = ratings[:Ntrain]\n",
    "\n",
    "test_user = user_ids[Ntrain:]\n",
    "test_movie = movie_ids[Ntrain:]\n",
    "test_ratings = ratings[Ntrain:]\n",
    "\n",
    "# center the ratings\n",
    "avg_rating = train_ratings.mean()\n",
    "train_ratings = train_ratings - avg_rating\n",
    "test_ratings = test_ratings - avg_rating"
   ]
  },
  {
   "cell_type": "code",
   "execution_count": 20,
   "metadata": {},
   "outputs": [
    {
     "name": "stdout",
     "output_type": "stream",
     "text": [
      "Epoch 1/25\n",
      "19532/19532 [==============================] - 85s 4ms/step - loss: 0.7014 - val_loss: 0.6987\n",
      "Epoch 2/25\n",
      "19532/19532 [==============================] - 81s 4ms/step - loss: 0.6781 - val_loss: 0.6815\n",
      "Epoch 3/25\n",
      "19532/19532 [==============================] - 81s 4ms/step - loss: 0.6613 - val_loss: 0.6719\n",
      "Epoch 4/25\n",
      "19532/19532 [==============================] - 81s 4ms/step - loss: 0.6478 - val_loss: 0.6657\n",
      "Epoch 5/25\n",
      "19532/19532 [==============================] - 80s 4ms/step - loss: 0.6333 - val_loss: 0.6511\n",
      "Epoch 6/25\n",
      "19532/19532 [==============================] - 79s 4ms/step - loss: 0.6160 - val_loss: 0.6415\n",
      "Epoch 7/25\n",
      "19532/19532 [==============================] - 79s 4ms/step - loss: 0.6022 - val_loss: 0.6357\n",
      "Epoch 8/25\n",
      "19532/19532 [==============================] - 79s 4ms/step - loss: 0.5914 - val_loss: 0.6319\n",
      "Epoch 9/25\n",
      "19532/19532 [==============================] - 79s 4ms/step - loss: 0.5809 - val_loss: 0.6274\n",
      "Epoch 10/25\n",
      "19532/19532 [==============================] - 79s 4ms/step - loss: 0.5711 - val_loss: 0.6233\n",
      "Epoch 11/25\n",
      "19532/19532 [==============================] - 79s 4ms/step - loss: 0.5628 - val_loss: 0.6207\n",
      "Epoch 12/25\n",
      "19532/19532 [==============================] - 79s 4ms/step - loss: 0.5563 - val_loss: 0.6174\n",
      "Epoch 13/25\n",
      "19532/19532 [==============================] - 79s 4ms/step - loss: 0.5512 - val_loss: 0.6160\n",
      "Epoch 14/25\n",
      "19532/19532 [==============================] - 79s 4ms/step - loss: 0.5470 - val_loss: 0.6190\n",
      "Epoch 15/25\n",
      "19532/19532 [==============================] - 79s 4ms/step - loss: 0.5435 - val_loss: 0.6174\n",
      "Epoch 16/25\n",
      "19532/19532 [==============================] - 79s 4ms/step - loss: 0.5405 - val_loss: 0.6183\n",
      "Epoch 17/25\n",
      "19532/19532 [==============================] - 79s 4ms/step - loss: 0.5378 - val_loss: 0.6150\n",
      "Epoch 18/25\n",
      "19532/19532 [==============================] - 79s 4ms/step - loss: 0.5354 - val_loss: 0.6176\n",
      "Epoch 19/25\n",
      "19532/19532 [==============================] - 79s 4ms/step - loss: 0.5333 - val_loss: 0.6166\n",
      "Epoch 20/25\n",
      "19532/19532 [==============================] - 81s 4ms/step - loss: 0.5314 - val_loss: 0.6154\n",
      "Epoch 21/25\n",
      "19532/19532 [==============================] - 81s 4ms/step - loss: 0.5297 - val_loss: 0.6228\n",
      "Epoch 22/25\n",
      "19532/19532 [==============================] - 79s 4ms/step - loss: 0.5281 - val_loss: 0.6198\n",
      "Epoch 23/25\n",
      "19532/19532 [==============================] - 83s 4ms/step - loss: 0.5266 - val_loss: 0.6172\n",
      "Epoch 24/25\n",
      "19532/19532 [==============================] - 79s 4ms/step - loss: 0.5253 - val_loss: 0.6168\n",
      "Epoch 25/25\n",
      "19532/19532 [==============================] - 80s 4ms/step - loss: 0.5241 - val_loss: 0.6186\n"
     ]
    }
   ],
   "source": [
    "r = model.fit(\n",
    "  x=[train_user, train_movie],\n",
    "  y=train_ratings,\n",
    "  epochs=25,\n",
    "  batch_size=1024,\n",
    "  validation_data=([test_user, test_movie], test_ratings),\n",
    ")"
   ]
  },
  {
   "cell_type": "code",
   "execution_count": 21,
   "metadata": {},
   "outputs": [
    {
     "data": {
      "image/png": "[encoded data removed]",
      "text/plain": [
       "<Figure size 640x480 with 1 Axes>"
      ]
     },
     "metadata": {},
     "output_type": "display_data"
    }
   ],
   "source": [
    "# plot losses\n",
    "plt.plot(r.history['loss'], label=\"train loss\")\n",
    "plt.plot(r.history['val_loss'], label=\"val loss\")\n",
    "plt.legend()\n",
    "plt.show()"
   ]
  },
  {
   "cell_type": "code",
   "execution_count": 67,
   "metadata": {},
   "outputs": [
    {
     "data": {
      "text/plain": [
       "139705"
      ]
     },
     "execution_count": 67,
     "metadata": {},
     "output_type": "execute_result"
    }
   ],
   "source": [
    "user_id = np.random.randint(0, len(set(user_ids)))\n",
    "user_id"
   ]
  },
  {
   "cell_type": "code",
   "execution_count": 68,
   "metadata": {},
   "outputs": [],
   "source": [
    "watched_movie_ids = df[df.new_user_id == user_id].new_movie_id.values"
   ]
  },
  {
   "cell_type": "code",
   "execution_count": 69,
   "metadata": {},
   "outputs": [
    {
     "data": {
      "text/plain": [
       "array([    0,     5,    31,    43,    46,    49,    61,   143,   148,\n",
       "         158,   163,   166,   183,   249,   257,   288,   292,   312,\n",
       "         313,   314,   334,   348,   351,   359,   372,   375,   435,\n",
       "         449,   452,   469,   480,   489,   495,   534,   579,   580,\n",
       "         581,   584,   589,   600,   637,   718,   721,   764,   769,\n",
       "         770,   786,   814,   840,  1005,  1013,  1024,  1061,  1063,\n",
       "        1070,  1073,  1074,  1166,  1167,  1168,  1179,  1182,  1207,\n",
       "        1226,  1232,  1258,  1268,  1273,  1338,  1341,  1357,  1358,\n",
       "        1383,  1464,  1475,  1517,  1540,  1550,  1561,  1566,  1591,\n",
       "        1620,  1640,  1655,  1666,  1683,  1701,  1707,  1787,  1829,\n",
       "        1865,  1872,  1873,  1878,  1879,  1911,  1914,  1915,  1916,\n",
       "        1922,  1939,  1969,  2054,  2055,  2084,  2200,  2262,  2311,\n",
       "        2312,  2316,  2318,  2319,  2320,  2329,  2340,  2399,  2411,\n",
       "        2448,  2480,  2481,  2526,  2579,  2602,  2625,  2632,  2671,\n",
       "        2705,  2789,  2823,  2826,  2850,  2855,  2867,  2893,  2905,\n",
       "        2913,  2946,  2994,  3014,  3054,  3067,  3162,  3163,  3182,\n",
       "        3224,  3313,  3345,  3374,  3381,  3384,  3479,  3524,  3597,\n",
       "        3654,  3690,  3692,  3794,  3890,  3892,  3918,  3921,  3937,\n",
       "        3980,  4122,  4134,  4135,  4194,  4201,  4265,  4343,  4440,\n",
       "        4518,  4670,  4768,  4772,  4780,  4857,  4869,  4873,  4887,\n",
       "        4889,  5185,  5200,  5269,  5280,  5310,  5337,  5355,  5356,\n",
       "        5394,  5420,  5760,  5877,  6076,  6106,  6169,  6211,  6221,\n",
       "        6247,  6254,  6258,  6416,  6472,  6541,  6585,  6588,  6747,\n",
       "        6751,  6756,  6817,  6819,  6832,  7018,  7129,  7168,  7200,\n",
       "        7221,  7222,  7236,  7237,  7251,  7299,  7300,  7306,  7745,\n",
       "        7805,  7847,  7851,  7923,  7931,  8067,  8069,  8070,  8083,\n",
       "        8092,  8193,  8202,  8234,  8257,  9334,  9421,  9545,  9597,\n",
       "        9662,  9781,  9898,  9976,  9979, 10000, 10053, 10095, 10133,\n",
       "       10202, 10273, 10391, 10408, 10677, 10679, 10681, 10828, 10894,\n",
       "       10943, 10955, 11015, 11115, 11122, 11161, 11208, 11212, 11236,\n",
       "       11245, 11380, 11433, 11445, 11476, 11503, 11507, 11529, 11545,\n",
       "       11644, 11687, 11694, 11735, 11755, 11827, 11845, 11856, 11858,\n",
       "       11863, 11871, 11929, 11971, 12001, 12021, 12023, 12025, 12040,\n",
       "       12145, 12152, 12216, 12242, 12272, 12319, 12326, 12372, 12420,\n",
       "       12424, 12426, 12433, 12558, 12572, 12586, 12673, 12753, 12871,\n",
       "       12882, 12897, 12926, 13128, 13138, 13147, 13377, 13490, 13570,\n",
       "       13621, 13871, 13899, 14017, 14094, 14098, 14327, 14461, 14499,\n",
       "       14607, 14618, 14799, 14925, 14931, 14940, 14959, 15042, 15395,\n",
       "       15463, 15508, 15523, 15535, 15658, 16166, 16507, 16698, 16703,\n",
       "       16706, 16829, 16987, 17051, 17070, 17152, 17291, 17340, 17425,\n",
       "       17474, 17938, 18132, 18159, 18210, 18383, 18412, 18421, 18458,\n",
       "       18480, 18698, 18716, 18979, 18980, 19484, 19567, 19628, 19642,\n",
       "       19680, 19777, 19865, 19901, 20185, 20531, 20607, 20706, 20978,\n",
       "       21105, 21244, 21482, 21621, 21625, 21716, 21732, 21787, 22266,\n",
       "       22313, 22375, 22381, 22404, 24535, 24538, 24541, 24543, 24547,\n",
       "       26036, 28451, 30810, 33402, 34077, 35334, 35695, 38035, 39029,\n",
       "       39426, 39440, 40051, 40985, 41020, 41194, 41753, 41789, 42802,\n",
       "       43300, 44397, 44757, 45089, 45609, 46059, 50341])"
      ]
     },
     "execution_count": 69,
     "metadata": {},
     "output_type": "execute_result"
    }
   ],
   "source": [
    "watched_movie_ids"
   ]
  },
  {
   "cell_type": "code",
   "execution_count": 70,
   "metadata": {},
   "outputs": [],
   "source": [
    "potential_movie_ids = df[~df.new_movie_id.isin(watched_movie_ids)].new_movie_id.unique()"
   ]
  },
  {
   "cell_type": "code",
   "execution_count": 71,
   "metadata": {},
   "outputs": [
    {
     "data": {
      "text/plain": [
       "(58617,)"
      ]
     },
     "execution_count": 71,
     "metadata": {},
     "output_type": "execute_result"
    }
   ],
   "source": [
    "# How many?\n",
    "potential_movie_ids.shape"
   ]
  },
  {
   "cell_type": "code",
   "execution_count": 72,
   "metadata": {},
   "outputs": [],
   "source": [
    "# Repeat the user id this many times\n",
    "user_id_to_recommend = np.full_like(potential_movie_ids, user_id)"
   ]
  },
  {
   "cell_type": "code",
   "execution_count": 73,
   "metadata": {},
   "outputs": [
    {
     "name": "stdout",
     "output_type": "stream",
     "text": [
      "1832/1832 [==============================] - 3s 1ms/step\n"
     ]
    }
   ],
   "source": [
    "predictions = model.predict([user_id_to_recommend, potential_movie_ids])"
   ]
  },
  {
   "cell_type": "code",
   "execution_count": 74,
   "metadata": {},
   "outputs": [
    {
     "data": {
      "text/plain": [
       "(58617, 1)"
      ]
     },
     "execution_count": 74,
     "metadata": {},
     "output_type": "execute_result"
    }
   ],
   "source": [
    "predictions.shape"
   ]
  },
  {
   "cell_type": "code",
   "execution_count": 75,
   "metadata": {},
   "outputs": [],
   "source": [
    "sort_idx = np.argsort(-predictions.flatten())"
   ]
  },
  {
   "cell_type": "code",
   "execution_count": 76,
   "metadata": {},
   "outputs": [
    {
     "name": "stdout",
     "output_type": "stream",
     "text": [
      "movie: The Red Pill (2016) score: [1.5875003]\n",
      "movie: Five Fingers (2006) score: [1.5863907]\n",
      "movie: Jimmy Carr: Funny Business (2016) score: [1.39489]\n",
      "movie: Kept Woman (2015) score: [1.387048]\n",
      "movie: Stranger in the House (1997) score: [1.354883]\n",
      "movie: Wolf Creek 2 (2013) score: [1.3481566]\n",
      "movie: Kid Cannabis (2014) score: [1.3470193]\n",
      "movie: Tomorrow (2015) score: [1.3307288]\n",
      "movie: Daniel Tosh: Happy Thoughts (2011) score: [1.294832]\n",
      "movie: Requisitos para ser una persona normal (2015) score: [1.2847512]\n"
     ]
    }
   ],
   "source": [
    "top_10_movie_ids = potential_movie_ids[sort_idx[:10]]\n",
    "top_10_scores = predictions[sort_idx[:10]]\n",
    "\n",
    "for movie, score in zip(top_10_movie_ids, top_10_scores):\n",
    "  movieId = df.loc[df['new_movie_id'] == movie, 'movieId'].values[0]\n",
    "  movie_string = movies_df.loc[movies_df['movieId'] == movieId, 'title'].values[0]\n",
    "  print(\"movie:\", movie_string, \"score:\", score)"
   ]
  },
  {
   "cell_type": "code",
   "execution_count": null,
   "metadata": {},
   "outputs": [],
   "source": []
  }
 ],
 "metadata": {
  "kernelspec": {
   "display_name": "tf",
   "language": "python",
   "name": "python3"
  },
  "language_info": {
   "codemirror_mode": {
    "name": "ipython",
    "version": 3
   },
   "file_extension": ".py",
   "mimetype": "text/x-python",
   "name": "python",
   "nbconvert_exporter": "python",
   "pygments_lexer": "ipython3",
   "version": "3.9.17"
  },
  "orig_nbformat": 4
 },
 "nbformat": 4,
 "nbformat_minor": 2
}
