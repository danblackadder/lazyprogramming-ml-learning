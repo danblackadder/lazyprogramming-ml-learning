{
 "cells": [
  {
   "cell_type": "code",
   "execution_count": 3,
   "metadata": {},
   "outputs": [
    {
     "name": "stdout",
     "output_type": "stream",
     "text": [
      "2.10.1\n"
     ]
    }
   ],
   "source": [
    "import tensorflow as tf\n",
    "print(tf.__version__)"
   ]
  },
  {
   "cell_type": "code",
   "execution_count": 4,
   "metadata": {},
   "outputs": [],
   "source": [
    "import pandas as pd\n",
    "import numpy as np\n",
    "import matplotlib.pyplot as plt\n",
    "from sklearn.datasets import load_breast_cancer"
   ]
  },
  {
   "cell_type": "code",
   "execution_count": 5,
   "metadata": {},
   "outputs": [
    {
     "data": {
      "text/plain": [
       "{'data': array([[1.799e+01, 1.038e+01, 1.228e+02, ..., 2.654e-01, 4.601e-01,\n",
       "         1.189e-01],\n",
       "        [2.057e+01, 1.777e+01, 1.329e+02, ..., 1.860e-01, 2.750e-01,\n",
       "         8.902e-02],\n",
       "        [1.969e+01, 2.125e+01, 1.300e+02, ..., 2.430e-01, 3.613e-01,\n",
       "         8.758e-02],\n",
       "        ...,\n",
       "        [1.660e+01, 2.808e+01, 1.083e+02, ..., 1.418e-01, 2.218e-01,\n",
       "         7.820e-02],\n",
       "        [2.060e+01, 2.933e+01, 1.401e+02, ..., 2.650e-01, 4.087e-01,\n",
       "         1.240e-01],\n",
       "        [7.760e+00, 2.454e+01, 4.792e+01, ..., 0.000e+00, 2.871e-01,\n",
       "         7.039e-02]]),\n",
       " 'target': array([0, 0, 0, 0, 0, 0, 0, 0, 0, 0, 0, 0, 0, 0, 0, 0, 0, 0, 0, 1, 1, 1,\n",
       "        0, 0, 0, 0, 0, 0, 0, 0, 0, 0, 0, 0, 0, 0, 0, 1, 0, 0, 0, 0, 0, 0,\n",
       "        0, 0, 1, 0, 1, 1, 1, 1, 1, 0, 0, 1, 0, 0, 1, 1, 1, 1, 0, 1, 0, 0,\n",
       "        1, 1, 1, 1, 0, 1, 0, 0, 1, 0, 1, 0, 0, 1, 1, 1, 0, 0, 1, 0, 0, 0,\n",
       "        1, 1, 1, 0, 1, 1, 0, 0, 1, 1, 1, 0, 0, 1, 1, 1, 1, 0, 1, 1, 0, 1,\n",
       "        1, 1, 1, 1, 1, 1, 1, 0, 0, 0, 1, 0, 0, 1, 1, 1, 0, 0, 1, 0, 1, 0,\n",
       "        0, 1, 0, 0, 1, 1, 0, 1, 1, 0, 1, 1, 1, 1, 0, 1, 1, 1, 1, 1, 1, 1,\n",
       "        1, 1, 0, 1, 1, 1, 1, 0, 0, 1, 0, 1, 1, 0, 0, 1, 1, 0, 0, 1, 1, 1,\n",
       "        1, 0, 1, 1, 0, 0, 0, 1, 0, 1, 0, 1, 1, 1, 0, 1, 1, 0, 0, 1, 0, 0,\n",
       "        0, 0, 1, 0, 0, 0, 1, 0, 1, 0, 1, 1, 0, 1, 0, 0, 0, 0, 1, 1, 0, 0,\n",
       "        1, 1, 1, 0, 1, 1, 1, 1, 1, 0, 0, 1, 1, 0, 1, 1, 0, 0, 1, 0, 1, 1,\n",
       "        1, 1, 0, 1, 1, 1, 1, 1, 0, 1, 0, 0, 0, 0, 0, 0, 0, 0, 0, 0, 0, 0,\n",
       "        0, 0, 1, 1, 1, 1, 1, 1, 0, 1, 0, 1, 1, 0, 1, 1, 0, 1, 0, 0, 1, 1,\n",
       "        1, 1, 1, 1, 1, 1, 1, 1, 1, 1, 1, 0, 1, 1, 0, 1, 0, 1, 1, 1, 1, 1,\n",
       "        1, 1, 1, 1, 1, 1, 1, 1, 1, 0, 1, 1, 1, 0, 1, 0, 1, 1, 1, 1, 0, 0,\n",
       "        0, 1, 1, 1, 1, 0, 1, 0, 1, 0, 1, 1, 1, 0, 1, 1, 1, 1, 1, 1, 1, 0,\n",
       "        0, 0, 1, 1, 1, 1, 1, 1, 1, 1, 1, 1, 1, 0, 0, 1, 0, 0, 0, 1, 0, 0,\n",
       "        1, 1, 1, 1, 1, 0, 1, 1, 1, 1, 1, 0, 1, 1, 1, 0, 1, 1, 0, 0, 1, 1,\n",
       "        1, 1, 1, 1, 0, 1, 1, 1, 1, 1, 1, 1, 0, 1, 1, 1, 1, 1, 0, 1, 1, 0,\n",
       "        1, 1, 1, 1, 1, 1, 1, 1, 1, 1, 1, 1, 0, 1, 0, 0, 1, 0, 1, 1, 1, 1,\n",
       "        1, 0, 1, 1, 0, 1, 0, 1, 1, 0, 1, 0, 1, 1, 1, 1, 1, 1, 1, 1, 0, 0,\n",
       "        1, 1, 1, 1, 1, 1, 0, 1, 1, 1, 1, 1, 1, 1, 1, 1, 1, 0, 1, 1, 1, 1,\n",
       "        1, 1, 1, 0, 1, 0, 1, 1, 0, 1, 1, 1, 1, 1, 0, 0, 1, 0, 1, 0, 1, 1,\n",
       "        1, 1, 1, 0, 1, 1, 0, 1, 0, 1, 0, 0, 1, 1, 1, 0, 1, 1, 1, 1, 1, 1,\n",
       "        1, 1, 1, 1, 1, 0, 1, 0, 0, 1, 1, 1, 1, 1, 1, 1, 1, 1, 1, 1, 1, 1,\n",
       "        1, 1, 1, 1, 1, 1, 1, 1, 1, 1, 1, 1, 0, 0, 0, 0, 0, 0, 1]),\n",
       " 'frame': None,\n",
       " 'target_names': array(['malignant', 'benign'], dtype='<U9'),\n",
       " 'DESCR': '.. _breast_cancer_dataset:\\n\\nBreast cancer wisconsin (diagnostic) dataset\\n--------------------------------------------\\n\\n**Data Set Characteristics:**\\n\\n    :Number of Instances: 569\\n\\n    :Number of Attributes: 30 numeric, predictive attributes and the class\\n\\n    :Attribute Information:\\n        - radius (mean of distances from center to points on the perimeter)\\n        - texture (standard deviation of gray-scale values)\\n        - perimeter\\n        - area\\n        - smoothness (local variation in radius lengths)\\n        - compactness (perimeter^2 / area - 1.0)\\n        - concavity (severity of concave portions of the contour)\\n        - concave points (number of concave portions of the contour)\\n        - symmetry\\n        - fractal dimension (\"coastline approximation\" - 1)\\n\\n        The mean, standard error, and \"worst\" or largest (mean of the three\\n        worst/largest values) of these features were computed for each image,\\n        resulting in 30 features.  For instance, field 0 is Mean Radius, field\\n        10 is Radius SE, field 20 is Worst Radius.\\n\\n        - class:\\n                - WDBC-Malignant\\n                - WDBC-Benign\\n\\n    :Summary Statistics:\\n\\n    ===================================== ====== ======\\n                                           Min    Max\\n    ===================================== ====== ======\\n    radius (mean):                        6.981  28.11\\n    texture (mean):                       9.71   39.28\\n    perimeter (mean):                     43.79  188.5\\n    area (mean):                          143.5  2501.0\\n    smoothness (mean):                    0.053  0.163\\n    compactness (mean):                   0.019  0.345\\n    concavity (mean):                     0.0    0.427\\n    concave points (mean):                0.0    0.201\\n    symmetry (mean):                      0.106  0.304\\n    fractal dimension (mean):             0.05   0.097\\n    radius (standard error):              0.112  2.873\\n    texture (standard error):             0.36   4.885\\n    perimeter (standard error):           0.757  21.98\\n    area (standard error):                6.802  542.2\\n    smoothness (standard error):          0.002  0.031\\n    compactness (standard error):         0.002  0.135\\n    concavity (standard error):           0.0    0.396\\n    concave points (standard error):      0.0    0.053\\n    symmetry (standard error):            0.008  0.079\\n    fractal dimension (standard error):   0.001  0.03\\n    radius (worst):                       7.93   36.04\\n    texture (worst):                      12.02  49.54\\n    perimeter (worst):                    50.41  251.2\\n    area (worst):                         185.2  4254.0\\n    smoothness (worst):                   0.071  0.223\\n    compactness (worst):                  0.027  1.058\\n    concavity (worst):                    0.0    1.252\\n    concave points (worst):               0.0    0.291\\n    symmetry (worst):                     0.156  0.664\\n    fractal dimension (worst):            0.055  0.208\\n    ===================================== ====== ======\\n\\n    :Missing Attribute Values: None\\n\\n    :Class Distribution: 212 - Malignant, 357 - Benign\\n\\n    :Creator:  Dr. William H. Wolberg, W. Nick Street, Olvi L. Mangasarian\\n\\n    :Donor: Nick Street\\n\\n    :Date: November, 1995\\n\\nThis is a copy of UCI ML Breast Cancer Wisconsin (Diagnostic) datasets.\\nhttps://goo.gl/U2Uwz2\\n\\nFeatures are computed from a digitized image of a fine needle\\naspirate (FNA) of a breast mass.  They describe\\ncharacteristics of the cell nuclei present in the image.\\n\\nSeparating plane described above was obtained using\\nMultisurface Method-Tree (MSM-T) [K. P. Bennett, \"Decision Tree\\nConstruction Via Linear Programming.\" Proceedings of the 4th\\nMidwest Artificial Intelligence and Cognitive Science Society,\\npp. 97-101, 1992], a classification method which uses linear\\nprogramming to construct a decision tree.  Relevant features\\nwere selected using an exhaustive search in the space of 1-4\\nfeatures and 1-3 separating planes.\\n\\nThe actual linear program used to obtain the separating plane\\nin the 3-dimensional space is that described in:\\n[K. P. Bennett and O. L. Mangasarian: \"Robust Linear\\nProgramming Discrimination of Two Linearly Inseparable Sets\",\\nOptimization Methods and Software 1, 1992, 23-34].\\n\\nThis database is also available through the UW CS ftp server:\\n\\nftp ftp.cs.wisc.edu\\ncd math-prog/cpo-dataset/machine-learn/WDBC/\\n\\n.. topic:: References\\n\\n   - W.N. Street, W.H. Wolberg and O.L. Mangasarian. Nuclear feature extraction \\n     for breast tumor diagnosis. IS&T/SPIE 1993 International Symposium on \\n     Electronic Imaging: Science and Technology, volume 1905, pages 861-870,\\n     San Jose, CA, 1993.\\n   - O.L. Mangasarian, W.N. Street and W.H. Wolberg. Breast cancer diagnosis and \\n     prognosis via linear programming. Operations Research, 43(4), pages 570-577, \\n     July-August 1995.\\n   - W.H. Wolberg, W.N. Street, and O.L. Mangasarian. Machine learning techniques\\n     to diagnose breast cancer from fine-needle aspirates. Cancer Letters 77 (1994) \\n     163-171.',\n",
       " 'feature_names': array(['mean radius', 'mean texture', 'mean perimeter', 'mean area',\n",
       "        'mean smoothness', 'mean compactness', 'mean concavity',\n",
       "        'mean concave points', 'mean symmetry', 'mean fractal dimension',\n",
       "        'radius error', 'texture error', 'perimeter error', 'area error',\n",
       "        'smoothness error', 'compactness error', 'concavity error',\n",
       "        'concave points error', 'symmetry error',\n",
       "        'fractal dimension error', 'worst radius', 'worst texture',\n",
       "        'worst perimeter', 'worst area', 'worst smoothness',\n",
       "        'worst compactness', 'worst concavity', 'worst concave points',\n",
       "        'worst symmetry', 'worst fractal dimension'], dtype='<U23'),\n",
       " 'filename': 'breast_cancer.csv',\n",
       " 'data_module': 'sklearn.datasets.data'}"
      ]
     },
     "execution_count": 5,
     "metadata": {},
     "output_type": "execute_result"
    }
   ],
   "source": [
    "data = load_breast_cancer()\n",
    "data"
   ]
  },
  {
   "cell_type": "code",
   "execution_count": 6,
   "metadata": {},
   "outputs": [
    {
     "data": {
      "text/plain": [
       "array([[1.799e+01, 1.038e+01, 1.228e+02, ..., 2.654e-01, 4.601e-01,\n",
       "        1.189e-01],\n",
       "       [2.057e+01, 1.777e+01, 1.329e+02, ..., 1.860e-01, 2.750e-01,\n",
       "        8.902e-02],\n",
       "       [1.969e+01, 2.125e+01, 1.300e+02, ..., 2.430e-01, 3.613e-01,\n",
       "        8.758e-02],\n",
       "       ...,\n",
       "       [1.660e+01, 2.808e+01, 1.083e+02, ..., 1.418e-01, 2.218e-01,\n",
       "        7.820e-02],\n",
       "       [2.060e+01, 2.933e+01, 1.401e+02, ..., 2.650e-01, 4.087e-01,\n",
       "        1.240e-01],\n",
       "       [7.760e+00, 2.454e+01, 4.792e+01, ..., 0.000e+00, 2.871e-01,\n",
       "        7.039e-02]])"
      ]
     },
     "execution_count": 6,
     "metadata": {},
     "output_type": "execute_result"
    }
   ],
   "source": [
    "data.data"
   ]
  },
  {
   "cell_type": "code",
   "execution_count": 7,
   "metadata": {},
   "outputs": [
    {
     "data": {
      "text/plain": [
       "sklearn.utils._bunch.Bunch"
      ]
     },
     "execution_count": 7,
     "metadata": {},
     "output_type": "execute_result"
    }
   ],
   "source": [
    "type(data)"
   ]
  },
  {
   "cell_type": "code",
   "execution_count": 8,
   "metadata": {},
   "outputs": [
    {
     "data": {
      "text/plain": [
       "dict_keys(['data', 'target', 'frame', 'target_names', 'DESCR', 'feature_names', 'filename', 'data_module'])"
      ]
     },
     "execution_count": 8,
     "metadata": {},
     "output_type": "execute_result"
    }
   ],
   "source": [
    "data.keys()"
   ]
  },
  {
   "cell_type": "code",
   "execution_count": 9,
   "metadata": {},
   "outputs": [
    {
     "data": {
      "text/plain": [
       "(569, 30)"
      ]
     },
     "execution_count": 9,
     "metadata": {},
     "output_type": "execute_result"
    }
   ],
   "source": [
    "data.data.shape"
   ]
  },
  {
   "cell_type": "code",
   "execution_count": 10,
   "metadata": {},
   "outputs": [
    {
     "data": {
      "text/plain": [
       "array([0, 0, 0, 0, 0, 0, 0, 0, 0, 0, 0, 0, 0, 0, 0, 0, 0, 0, 0, 1, 1, 1,\n",
       "       0, 0, 0, 0, 0, 0, 0, 0, 0, 0, 0, 0, 0, 0, 0, 1, 0, 0, 0, 0, 0, 0,\n",
       "       0, 0, 1, 0, 1, 1, 1, 1, 1, 0, 0, 1, 0, 0, 1, 1, 1, 1, 0, 1, 0, 0,\n",
       "       1, 1, 1, 1, 0, 1, 0, 0, 1, 0, 1, 0, 0, 1, 1, 1, 0, 0, 1, 0, 0, 0,\n",
       "       1, 1, 1, 0, 1, 1, 0, 0, 1, 1, 1, 0, 0, 1, 1, 1, 1, 0, 1, 1, 0, 1,\n",
       "       1, 1, 1, 1, 1, 1, 1, 0, 0, 0, 1, 0, 0, 1, 1, 1, 0, 0, 1, 0, 1, 0,\n",
       "       0, 1, 0, 0, 1, 1, 0, 1, 1, 0, 1, 1, 1, 1, 0, 1, 1, 1, 1, 1, 1, 1,\n",
       "       1, 1, 0, 1, 1, 1, 1, 0, 0, 1, 0, 1, 1, 0, 0, 1, 1, 0, 0, 1, 1, 1,\n",
       "       1, 0, 1, 1, 0, 0, 0, 1, 0, 1, 0, 1, 1, 1, 0, 1, 1, 0, 0, 1, 0, 0,\n",
       "       0, 0, 1, 0, 0, 0, 1, 0, 1, 0, 1, 1, 0, 1, 0, 0, 0, 0, 1, 1, 0, 0,\n",
       "       1, 1, 1, 0, 1, 1, 1, 1, 1, 0, 0, 1, 1, 0, 1, 1, 0, 0, 1, 0, 1, 1,\n",
       "       1, 1, 0, 1, 1, 1, 1, 1, 0, 1, 0, 0, 0, 0, 0, 0, 0, 0, 0, 0, 0, 0,\n",
       "       0, 0, 1, 1, 1, 1, 1, 1, 0, 1, 0, 1, 1, 0, 1, 1, 0, 1, 0, 0, 1, 1,\n",
       "       1, 1, 1, 1, 1, 1, 1, 1, 1, 1, 1, 0, 1, 1, 0, 1, 0, 1, 1, 1, 1, 1,\n",
       "       1, 1, 1, 1, 1, 1, 1, 1, 1, 0, 1, 1, 1, 0, 1, 0, 1, 1, 1, 1, 0, 0,\n",
       "       0, 1, 1, 1, 1, 0, 1, 0, 1, 0, 1, 1, 1, 0, 1, 1, 1, 1, 1, 1, 1, 0,\n",
       "       0, 0, 1, 1, 1, 1, 1, 1, 1, 1, 1, 1, 1, 0, 0, 1, 0, 0, 0, 1, 0, 0,\n",
       "       1, 1, 1, 1, 1, 0, 1, 1, 1, 1, 1, 0, 1, 1, 1, 0, 1, 1, 0, 0, 1, 1,\n",
       "       1, 1, 1, 1, 0, 1, 1, 1, 1, 1, 1, 1, 0, 1, 1, 1, 1, 1, 0, 1, 1, 0,\n",
       "       1, 1, 1, 1, 1, 1, 1, 1, 1, 1, 1, 1, 0, 1, 0, 0, 1, 0, 1, 1, 1, 1,\n",
       "       1, 0, 1, 1, 0, 1, 0, 1, 1, 0, 1, 0, 1, 1, 1, 1, 1, 1, 1, 1, 0, 0,\n",
       "       1, 1, 1, 1, 1, 1, 0, 1, 1, 1, 1, 1, 1, 1, 1, 1, 1, 0, 1, 1, 1, 1,\n",
       "       1, 1, 1, 0, 1, 0, 1, 1, 0, 1, 1, 1, 1, 1, 0, 0, 1, 0, 1, 0, 1, 1,\n",
       "       1, 1, 1, 0, 1, 1, 0, 1, 0, 1, 0, 0, 1, 1, 1, 0, 1, 1, 1, 1, 1, 1,\n",
       "       1, 1, 1, 1, 1, 0, 1, 0, 0, 1, 1, 1, 1, 1, 1, 1, 1, 1, 1, 1, 1, 1,\n",
       "       1, 1, 1, 1, 1, 1, 1, 1, 1, 1, 1, 1, 0, 0, 0, 0, 0, 0, 1])"
      ]
     },
     "execution_count": 10,
     "metadata": {},
     "output_type": "execute_result"
    }
   ],
   "source": [
    "data.target"
   ]
  },
  {
   "cell_type": "code",
   "execution_count": 11,
   "metadata": {},
   "outputs": [
    {
     "data": {
      "text/plain": [
       "(array([0, 1]), array([212, 357], dtype=int64))"
      ]
     },
     "execution_count": 11,
     "metadata": {},
     "output_type": "execute_result"
    }
   ],
   "source": [
    "np.unique(data.target, return_counts=True)"
   ]
  },
  {
   "cell_type": "code",
   "execution_count": 12,
   "metadata": {},
   "outputs": [
    {
     "data": {
      "text/plain": [
       "array(['malignant', 'benign'], dtype='<U9')"
      ]
     },
     "execution_count": 12,
     "metadata": {},
     "output_type": "execute_result"
    }
   ],
   "source": [
    "data.target_names"
   ]
  },
  {
   "cell_type": "code",
   "execution_count": 13,
   "metadata": {},
   "outputs": [
    {
     "data": {
      "text/plain": [
       "(569,)"
      ]
     },
     "execution_count": 13,
     "metadata": {},
     "output_type": "execute_result"
    }
   ],
   "source": [
    "data.target.shape"
   ]
  },
  {
   "cell_type": "code",
   "execution_count": 14,
   "metadata": {},
   "outputs": [
    {
     "data": {
      "text/plain": [
       "array(['mean radius', 'mean texture', 'mean perimeter', 'mean area',\n",
       "       'mean smoothness', 'mean compactness', 'mean concavity',\n",
       "       'mean concave points', 'mean symmetry', 'mean fractal dimension',\n",
       "       'radius error', 'texture error', 'perimeter error', 'area error',\n",
       "       'smoothness error', 'compactness error', 'concavity error',\n",
       "       'concave points error', 'symmetry error',\n",
       "       'fractal dimension error', 'worst radius', 'worst texture',\n",
       "       'worst perimeter', 'worst area', 'worst smoothness',\n",
       "       'worst compactness', 'worst concavity', 'worst concave points',\n",
       "       'worst symmetry', 'worst fractal dimension'], dtype='<U23')"
      ]
     },
     "execution_count": 14,
     "metadata": {},
     "output_type": "execute_result"
    }
   ],
   "source": [
    "data.feature_names"
   ]
  },
  {
   "cell_type": "code",
   "execution_count": 15,
   "metadata": {},
   "outputs": [
    {
     "data": {
      "text/plain": [
       "30"
      ]
     },
     "execution_count": 15,
     "metadata": {},
     "output_type": "execute_result"
    }
   ],
   "source": [
    "len(data.feature_names)"
   ]
  },
  {
   "cell_type": "code",
   "execution_count": 16,
   "metadata": {},
   "outputs": [],
   "source": [
    "from sklearn.model_selection import train_test_split"
   ]
  },
  {
   "cell_type": "code",
   "execution_count": 17,
   "metadata": {},
   "outputs": [],
   "source": [
    "X_train, X_test, y_train, y_test = train_test_split(data.data, data.target, test_size=0.33)\n",
    "N, D = X_train.shape"
   ]
  },
  {
   "cell_type": "code",
   "execution_count": 18,
   "metadata": {},
   "outputs": [
    {
     "data": {
      "text/plain": [
       "array([[1.129e+01, 1.304e+01, 7.223e+01, ..., 8.750e-02, 2.733e-01,\n",
       "        8.022e-02],\n",
       "       [1.746e+01, 3.928e+01, 1.134e+02, ..., 2.066e-01, 2.853e-01,\n",
       "        8.496e-02],\n",
       "       [1.918e+01, 2.249e+01, 1.275e+02, ..., 1.708e-01, 3.193e-01,\n",
       "        9.221e-02],\n",
       "       ...,\n",
       "       [1.114e+01, 1.407e+01, 7.124e+01, ..., 3.922e-02, 2.576e-01,\n",
       "        7.018e-02],\n",
       "       [1.422e+01, 2.312e+01, 9.437e+01, ..., 1.772e-01, 5.166e-01,\n",
       "        1.446e-01],\n",
       "       [1.450e+01, 1.089e+01, 9.428e+01, ..., 1.221e-01, 2.889e-01,\n",
       "        8.006e-02]])"
      ]
     },
     "execution_count": 18,
     "metadata": {},
     "output_type": "execute_result"
    }
   ],
   "source": [
    "X_train"
   ]
  },
  {
   "cell_type": "code",
   "execution_count": 19,
   "metadata": {},
   "outputs": [
    {
     "data": {
      "text/plain": [
       "array([[1.650e+01, 1.829e+01, 1.066e+02, ..., 9.123e-02, 2.394e-01,\n",
       "        6.469e-02],\n",
       "       [2.057e+01, 1.777e+01, 1.329e+02, ..., 1.860e-01, 2.750e-01,\n",
       "        8.902e-02],\n",
       "       [1.495e+01, 1.757e+01, 9.685e+01, ..., 1.667e-01, 3.414e-01,\n",
       "        7.147e-02],\n",
       "       ...,\n",
       "       [1.747e+01, 2.468e+01, 1.161e+02, ..., 1.721e-01, 2.160e-01,\n",
       "        9.300e-02],\n",
       "       [1.115e+01, 1.308e+01, 7.087e+01, ..., 5.506e-02, 2.859e-01,\n",
       "        6.772e-02],\n",
       "       [1.362e+01, 2.323e+01, 8.719e+01, ..., 7.174e-02, 2.642e-01,\n",
       "        6.953e-02]])"
      ]
     },
     "execution_count": 19,
     "metadata": {},
     "output_type": "execute_result"
    }
   ],
   "source": [
    "X_test"
   ]
  },
  {
   "cell_type": "code",
   "execution_count": 20,
   "metadata": {},
   "outputs": [],
   "source": [
    "from sklearn.preprocessing import StandardScaler"
   ]
  },
  {
   "cell_type": "code",
   "execution_count": 21,
   "metadata": {},
   "outputs": [],
   "source": [
    "scaler = StandardScaler()\n",
    "X_train = scaler.fit_transform(X_train)\n",
    "X_test = scaler.transform(X_test)"
   ]
  },
  {
   "cell_type": "code",
   "execution_count": 22,
   "metadata": {},
   "outputs": [
    {
     "name": "stdout",
     "output_type": "stream",
     "text": [
      "Epoch 1/100\n",
      "12/12 [==============================] - 1s 19ms/step - loss: 1.0854 - accuracy: 0.3018 - val_loss: 1.0353 - val_accuracy: 0.2926\n",
      "Epoch 2/100\n",
      "12/12 [==============================] - 0s 6ms/step - loss: 0.9825 - accuracy: 0.3333 - val_loss: 0.9317 - val_accuracy: 0.3351\n",
      "Epoch 3/100\n",
      "12/12 [==============================] - 0s 6ms/step - loss: 0.8879 - accuracy: 0.3963 - val_loss: 0.8401 - val_accuracy: 0.3723\n",
      "Epoch 4/100\n",
      "12/12 [==============================] - 0s 6ms/step - loss: 0.8037 - accuracy: 0.4567 - val_loss: 0.7603 - val_accuracy: 0.4840\n",
      "Epoch 5/100\n",
      "12/12 [==============================] - 0s 6ms/step - loss: 0.7319 - accuracy: 0.5407 - val_loss: 0.6902 - val_accuracy: 0.5426\n",
      "Epoch 6/100\n",
      "12/12 [==============================] - 0s 6ms/step - loss: 0.6681 - accuracy: 0.6037 - val_loss: 0.6308 - val_accuracy: 0.6170\n",
      "Epoch 7/100\n",
      "12/12 [==============================] - 0s 6ms/step - loss: 0.6150 - accuracy: 0.6562 - val_loss: 0.5790 - val_accuracy: 0.6915\n",
      "Epoch 8/100\n",
      "12/12 [==============================] - 0s 6ms/step - loss: 0.5684 - accuracy: 0.7244 - val_loss: 0.5353 - val_accuracy: 0.7340\n",
      "Epoch 9/100\n",
      "12/12 [==============================] - 0s 7ms/step - loss: 0.5300 - accuracy: 0.7690 - val_loss: 0.4972 - val_accuracy: 0.7766\n",
      "Epoch 10/100\n",
      "12/12 [==============================] - 0s 6ms/step - loss: 0.4958 - accuracy: 0.8005 - val_loss: 0.4646 - val_accuracy: 0.7926\n",
      "Epoch 11/100\n",
      "12/12 [==============================] - 0s 6ms/step - loss: 0.4669 - accuracy: 0.8136 - val_loss: 0.4365 - val_accuracy: 0.8298\n",
      "Epoch 12/100\n",
      "12/12 [==============================] - 0s 6ms/step - loss: 0.4418 - accuracy: 0.8425 - val_loss: 0.4112 - val_accuracy: 0.8511\n",
      "Epoch 13/100\n",
      "12/12 [==============================] - 0s 6ms/step - loss: 0.4195 - accuracy: 0.8556 - val_loss: 0.3893 - val_accuracy: 0.8617\n",
      "Epoch 14/100\n",
      "12/12 [==============================] - 0s 6ms/step - loss: 0.3999 - accuracy: 0.8688 - val_loss: 0.3696 - val_accuracy: 0.8777\n",
      "Epoch 15/100\n",
      "12/12 [==============================] - 0s 7ms/step - loss: 0.3826 - accuracy: 0.8898 - val_loss: 0.3522 - val_accuracy: 0.8830\n",
      "Epoch 16/100\n",
      "12/12 [==============================] - 0s 7ms/step - loss: 0.3669 - accuracy: 0.8924 - val_loss: 0.3359 - val_accuracy: 0.8936\n",
      "Epoch 17/100\n",
      "12/12 [==============================] - 0s 6ms/step - loss: 0.3528 - accuracy: 0.9003 - val_loss: 0.3214 - val_accuracy: 0.8936\n",
      "Epoch 18/100\n",
      "12/12 [==============================] - 0s 6ms/step - loss: 0.3400 - accuracy: 0.9055 - val_loss: 0.3083 - val_accuracy: 0.9043\n",
      "Epoch 19/100\n",
      "12/12 [==============================] - 0s 6ms/step - loss: 0.3284 - accuracy: 0.9081 - val_loss: 0.2962 - val_accuracy: 0.9096\n",
      "Epoch 20/100\n",
      "12/12 [==============================] - 0s 6ms/step - loss: 0.3176 - accuracy: 0.9108 - val_loss: 0.2852 - val_accuracy: 0.9202\n",
      "Epoch 21/100\n",
      "12/12 [==============================] - 0s 6ms/step - loss: 0.3079 - accuracy: 0.9213 - val_loss: 0.2750 - val_accuracy: 0.9255\n",
      "Epoch 22/100\n",
      "12/12 [==============================] - 0s 6ms/step - loss: 0.2986 - accuracy: 0.9265 - val_loss: 0.2657 - val_accuracy: 0.9309\n",
      "Epoch 23/100\n",
      "12/12 [==============================] - 0s 6ms/step - loss: 0.2902 - accuracy: 0.9265 - val_loss: 0.2569 - val_accuracy: 0.9309\n",
      "Epoch 24/100\n",
      "12/12 [==============================] - 0s 7ms/step - loss: 0.2822 - accuracy: 0.9291 - val_loss: 0.2488 - val_accuracy: 0.9415\n",
      "Epoch 25/100\n",
      "12/12 [==============================] - 0s 6ms/step - loss: 0.2751 - accuracy: 0.9291 - val_loss: 0.2411 - val_accuracy: 0.9574\n",
      "Epoch 26/100\n",
      "12/12 [==============================] - 0s 6ms/step - loss: 0.2679 - accuracy: 0.9291 - val_loss: 0.2341 - val_accuracy: 0.9574\n",
      "Epoch 27/100\n",
      "12/12 [==============================] - 0s 7ms/step - loss: 0.2615 - accuracy: 0.9318 - val_loss: 0.2275 - val_accuracy: 0.9574\n",
      "Epoch 28/100\n",
      "12/12 [==============================] - 0s 7ms/step - loss: 0.2553 - accuracy: 0.9344 - val_loss: 0.2213 - val_accuracy: 0.9574\n",
      "Epoch 29/100\n",
      "12/12 [==============================] - 0s 7ms/step - loss: 0.2495 - accuracy: 0.9370 - val_loss: 0.2155 - val_accuracy: 0.9628\n",
      "Epoch 30/100\n",
      "12/12 [==============================] - 0s 7ms/step - loss: 0.2442 - accuracy: 0.9344 - val_loss: 0.2098 - val_accuracy: 0.9681\n",
      "Epoch 31/100\n",
      "12/12 [==============================] - 0s 6ms/step - loss: 0.2389 - accuracy: 0.9370 - val_loss: 0.2046 - val_accuracy: 0.9787\n",
      "Epoch 32/100\n",
      "12/12 [==============================] - 0s 7ms/step - loss: 0.2342 - accuracy: 0.9370 - val_loss: 0.1997 - val_accuracy: 0.9787\n",
      "Epoch 33/100\n",
      "12/12 [==============================] - 0s 7ms/step - loss: 0.2294 - accuracy: 0.9396 - val_loss: 0.1952 - val_accuracy: 0.9840\n",
      "Epoch 34/100\n",
      "12/12 [==============================] - 0s 6ms/step - loss: 0.2250 - accuracy: 0.9396 - val_loss: 0.1907 - val_accuracy: 0.9840\n",
      "Epoch 35/100\n",
      "12/12 [==============================] - 0s 6ms/step - loss: 0.2208 - accuracy: 0.9396 - val_loss: 0.1866 - val_accuracy: 0.9840\n",
      "Epoch 36/100\n",
      "12/12 [==============================] - 0s 6ms/step - loss: 0.2168 - accuracy: 0.9396 - val_loss: 0.1824 - val_accuracy: 0.9840\n",
      "Epoch 37/100\n",
      "12/12 [==============================] - 0s 6ms/step - loss: 0.2129 - accuracy: 0.9396 - val_loss: 0.1788 - val_accuracy: 0.9840\n",
      "Epoch 38/100\n",
      "12/12 [==============================] - 0s 6ms/step - loss: 0.2094 - accuracy: 0.9423 - val_loss: 0.1752 - val_accuracy: 0.9840\n",
      "Epoch 39/100\n",
      "12/12 [==============================] - 0s 6ms/step - loss: 0.2057 - accuracy: 0.9423 - val_loss: 0.1716 - val_accuracy: 0.9840\n",
      "Epoch 40/100\n",
      "12/12 [==============================] - 0s 6ms/step - loss: 0.2025 - accuracy: 0.9449 - val_loss: 0.1683 - val_accuracy: 0.9840\n",
      "Epoch 41/100\n",
      "12/12 [==============================] - 0s 7ms/step - loss: 0.1991 - accuracy: 0.9475 - val_loss: 0.1653 - val_accuracy: 0.9840\n",
      "Epoch 42/100\n",
      "12/12 [==============================] - 0s 6ms/step - loss: 0.1961 - accuracy: 0.9475 - val_loss: 0.1622 - val_accuracy: 0.9840\n",
      "Epoch 43/100\n",
      "12/12 [==============================] - 0s 7ms/step - loss: 0.1932 - accuracy: 0.9501 - val_loss: 0.1593 - val_accuracy: 0.9840\n",
      "Epoch 44/100\n",
      "12/12 [==============================] - 0s 6ms/step - loss: 0.1903 - accuracy: 0.9501 - val_loss: 0.1565 - val_accuracy: 0.9840\n",
      "Epoch 45/100\n",
      "12/12 [==============================] - 0s 6ms/step - loss: 0.1875 - accuracy: 0.9501 - val_loss: 0.1539 - val_accuracy: 0.9840\n",
      "Epoch 46/100\n",
      "12/12 [==============================] - 0s 6ms/step - loss: 0.1850 - accuracy: 0.9501 - val_loss: 0.1514 - val_accuracy: 0.9840\n",
      "Epoch 47/100\n",
      "12/12 [==============================] - 0s 6ms/step - loss: 0.1824 - accuracy: 0.9528 - val_loss: 0.1488 - val_accuracy: 0.9840\n",
      "Epoch 48/100\n",
      "12/12 [==============================] - 0s 6ms/step - loss: 0.1801 - accuracy: 0.9528 - val_loss: 0.1465 - val_accuracy: 0.9840\n",
      "Epoch 49/100\n",
      "12/12 [==============================] - 0s 7ms/step - loss: 0.1777 - accuracy: 0.9528 - val_loss: 0.1442 - val_accuracy: 0.9840\n",
      "Epoch 50/100\n",
      "12/12 [==============================] - 0s 6ms/step - loss: 0.1754 - accuracy: 0.9528 - val_loss: 0.1419 - val_accuracy: 0.9840\n",
      "Epoch 51/100\n",
      "12/12 [==============================] - 0s 6ms/step - loss: 0.1733 - accuracy: 0.9528 - val_loss: 0.1398 - val_accuracy: 0.9840\n",
      "Epoch 52/100\n",
      "12/12 [==============================] - 0s 6ms/step - loss: 0.1711 - accuracy: 0.9554 - val_loss: 0.1380 - val_accuracy: 0.9840\n",
      "Epoch 53/100\n",
      "12/12 [==============================] - 0s 6ms/step - loss: 0.1691 - accuracy: 0.9580 - val_loss: 0.1360 - val_accuracy: 0.9840\n",
      "Epoch 54/100\n",
      "12/12 [==============================] - 0s 6ms/step - loss: 0.1672 - accuracy: 0.9580 - val_loss: 0.1341 - val_accuracy: 0.9840\n",
      "Epoch 55/100\n",
      "12/12 [==============================] - 0s 6ms/step - loss: 0.1653 - accuracy: 0.9580 - val_loss: 0.1322 - val_accuracy: 0.9840\n",
      "Epoch 56/100\n",
      "12/12 [==============================] - 0s 6ms/step - loss: 0.1635 - accuracy: 0.9580 - val_loss: 0.1305 - val_accuracy: 0.9840\n",
      "Epoch 57/100\n",
      "12/12 [==============================] - 0s 7ms/step - loss: 0.1617 - accuracy: 0.9580 - val_loss: 0.1287 - val_accuracy: 0.9840\n",
      "Epoch 58/100\n",
      "12/12 [==============================] - 0s 6ms/step - loss: 0.1600 - accuracy: 0.9606 - val_loss: 0.1271 - val_accuracy: 0.9840\n",
      "Epoch 59/100\n",
      "12/12 [==============================] - 0s 6ms/step - loss: 0.1583 - accuracy: 0.9606 - val_loss: 0.1254 - val_accuracy: 0.9840\n",
      "Epoch 60/100\n",
      "12/12 [==============================] - 0s 6ms/step - loss: 0.1568 - accuracy: 0.9606 - val_loss: 0.1239 - val_accuracy: 0.9840\n",
      "Epoch 61/100\n",
      "12/12 [==============================] - 0s 6ms/step - loss: 0.1551 - accuracy: 0.9606 - val_loss: 0.1224 - val_accuracy: 0.9840\n",
      "Epoch 62/100\n",
      "12/12 [==============================] - 0s 7ms/step - loss: 0.1537 - accuracy: 0.9606 - val_loss: 0.1210 - val_accuracy: 0.9840\n",
      "Epoch 63/100\n",
      "12/12 [==============================] - 0s 7ms/step - loss: 0.1522 - accuracy: 0.9606 - val_loss: 0.1195 - val_accuracy: 0.9840\n",
      "Epoch 64/100\n",
      "12/12 [==============================] - 0s 7ms/step - loss: 0.1508 - accuracy: 0.9606 - val_loss: 0.1182 - val_accuracy: 0.9840\n",
      "Epoch 65/100\n",
      "12/12 [==============================] - 0s 7ms/step - loss: 0.1493 - accuracy: 0.9606 - val_loss: 0.1168 - val_accuracy: 0.9840\n",
      "Epoch 66/100\n",
      "12/12 [==============================] - 0s 7ms/step - loss: 0.1481 - accuracy: 0.9633 - val_loss: 0.1155 - val_accuracy: 0.9840\n",
      "Epoch 67/100\n",
      "12/12 [==============================] - 0s 7ms/step - loss: 0.1467 - accuracy: 0.9633 - val_loss: 0.1142 - val_accuracy: 0.9840\n",
      "Epoch 68/100\n",
      "12/12 [==============================] - 0s 7ms/step - loss: 0.1454 - accuracy: 0.9633 - val_loss: 0.1131 - val_accuracy: 0.9840\n",
      "Epoch 69/100\n",
      "12/12 [==============================] - 0s 7ms/step - loss: 0.1442 - accuracy: 0.9659 - val_loss: 0.1120 - val_accuracy: 0.9840\n",
      "Epoch 70/100\n",
      "12/12 [==============================] - 0s 7ms/step - loss: 0.1430 - accuracy: 0.9659 - val_loss: 0.1107 - val_accuracy: 0.9840\n",
      "Epoch 71/100\n",
      "12/12 [==============================] - 0s 7ms/step - loss: 0.1419 - accuracy: 0.9659 - val_loss: 0.1097 - val_accuracy: 0.9840\n",
      "Epoch 72/100\n",
      "12/12 [==============================] - 0s 7ms/step - loss: 0.1407 - accuracy: 0.9659 - val_loss: 0.1084 - val_accuracy: 0.9840\n",
      "Epoch 73/100\n",
      "12/12 [==============================] - 0s 7ms/step - loss: 0.1397 - accuracy: 0.9659 - val_loss: 0.1075 - val_accuracy: 0.9840\n",
      "Epoch 74/100\n",
      "12/12 [==============================] - 0s 7ms/step - loss: 0.1385 - accuracy: 0.9659 - val_loss: 0.1064 - val_accuracy: 0.9840\n",
      "Epoch 75/100\n",
      "12/12 [==============================] - 0s 7ms/step - loss: 0.1374 - accuracy: 0.9659 - val_loss: 0.1053 - val_accuracy: 0.9840\n",
      "Epoch 76/100\n",
      "12/12 [==============================] - 0s 7ms/step - loss: 0.1364 - accuracy: 0.9659 - val_loss: 0.1043 - val_accuracy: 0.9840\n",
      "Epoch 77/100\n",
      "12/12 [==============================] - 0s 7ms/step - loss: 0.1354 - accuracy: 0.9659 - val_loss: 0.1034 - val_accuracy: 0.9840\n",
      "Epoch 78/100\n",
      "12/12 [==============================] - 0s 7ms/step - loss: 0.1344 - accuracy: 0.9659 - val_loss: 0.1024 - val_accuracy: 0.9840\n",
      "Epoch 79/100\n",
      "12/12 [==============================] - 0s 7ms/step - loss: 0.1335 - accuracy: 0.9685 - val_loss: 0.1016 - val_accuracy: 0.9840\n",
      "Epoch 80/100\n",
      "12/12 [==============================] - 0s 7ms/step - loss: 0.1325 - accuracy: 0.9685 - val_loss: 0.1006 - val_accuracy: 0.9840\n",
      "Epoch 81/100\n",
      "12/12 [==============================] - 0s 7ms/step - loss: 0.1316 - accuracy: 0.9685 - val_loss: 0.0997 - val_accuracy: 0.9840\n",
      "Epoch 82/100\n",
      "12/12 [==============================] - 0s 7ms/step - loss: 0.1308 - accuracy: 0.9685 - val_loss: 0.0988 - val_accuracy: 0.9840\n",
      "Epoch 83/100\n",
      "12/12 [==============================] - 0s 7ms/step - loss: 0.1299 - accuracy: 0.9685 - val_loss: 0.0981 - val_accuracy: 0.9840\n",
      "Epoch 84/100\n",
      "12/12 [==============================] - 0s 7ms/step - loss: 0.1290 - accuracy: 0.9685 - val_loss: 0.0972 - val_accuracy: 0.9840\n",
      "Epoch 85/100\n",
      "12/12 [==============================] - 0s 7ms/step - loss: 0.1282 - accuracy: 0.9685 - val_loss: 0.0965 - val_accuracy: 0.9840\n",
      "Epoch 86/100\n",
      "12/12 [==============================] - 0s 7ms/step - loss: 0.1274 - accuracy: 0.9685 - val_loss: 0.0958 - val_accuracy: 0.9840\n",
      "Epoch 87/100\n",
      "12/12 [==============================] - 0s 7ms/step - loss: 0.1267 - accuracy: 0.9685 - val_loss: 0.0950 - val_accuracy: 0.9840\n",
      "Epoch 88/100\n",
      "12/12 [==============================] - 0s 6ms/step - loss: 0.1258 - accuracy: 0.9685 - val_loss: 0.0942 - val_accuracy: 0.9840\n",
      "Epoch 89/100\n",
      "12/12 [==============================] - 0s 7ms/step - loss: 0.1251 - accuracy: 0.9685 - val_loss: 0.0935 - val_accuracy: 0.9840\n",
      "Epoch 90/100\n",
      "12/12 [==============================] - 0s 7ms/step - loss: 0.1243 - accuracy: 0.9711 - val_loss: 0.0928 - val_accuracy: 0.9840\n",
      "Epoch 91/100\n",
      "12/12 [==============================] - 0s 7ms/step - loss: 0.1236 - accuracy: 0.9711 - val_loss: 0.0922 - val_accuracy: 0.9840\n",
      "Epoch 92/100\n",
      "12/12 [==============================] - 0s 7ms/step - loss: 0.1229 - accuracy: 0.9711 - val_loss: 0.0913 - val_accuracy: 0.9840\n",
      "Epoch 93/100\n",
      "12/12 [==============================] - 0s 7ms/step - loss: 0.1223 - accuracy: 0.9711 - val_loss: 0.0908 - val_accuracy: 0.9840\n",
      "Epoch 94/100\n",
      "12/12 [==============================] - 0s 7ms/step - loss: 0.1215 - accuracy: 0.9711 - val_loss: 0.0901 - val_accuracy: 0.9840\n",
      "Epoch 95/100\n",
      "12/12 [==============================] - 0s 7ms/step - loss: 0.1209 - accuracy: 0.9711 - val_loss: 0.0894 - val_accuracy: 0.9840\n",
      "Epoch 96/100\n",
      "12/12 [==============================] - 0s 7ms/step - loss: 0.1202 - accuracy: 0.9738 - val_loss: 0.0889 - val_accuracy: 0.9840\n",
      "Epoch 97/100\n",
      "12/12 [==============================] - 0s 7ms/step - loss: 0.1196 - accuracy: 0.9738 - val_loss: 0.0882 - val_accuracy: 0.9840\n",
      "Epoch 98/100\n",
      "12/12 [==============================] - 0s 7ms/step - loss: 0.1189 - accuracy: 0.9764 - val_loss: 0.0876 - val_accuracy: 0.9840\n",
      "Epoch 99/100\n",
      "12/12 [==============================] - 0s 7ms/step - loss: 0.1184 - accuracy: 0.9764 - val_loss: 0.0868 - val_accuracy: 0.9840\n",
      "Epoch 100/100\n",
      "12/12 [==============================] - 0s 7ms/step - loss: 0.1177 - accuracy: 0.9764 - val_loss: 0.0863 - val_accuracy: 0.9840\n",
      "12/12 [==============================] - 0s 2ms/step - loss: 0.1173 - accuracy: 0.9764\n",
      "Train score: [0.11734236031770706, 0.9763779640197754]\n",
      "6/6 [==============================] - 0s 3ms/step - loss: 0.0863 - accuracy: 0.9840\n",
      "Test score: [0.08630384504795074, 0.9840425252914429]\n"
     ]
    }
   ],
   "source": [
    "model = tf.keras.models.Sequential([\n",
    "  tf.keras.layers.Input(shape=(D,)),\n",
    "  tf.keras.layers.Dense(1, activation='sigmoid')\n",
    "])\n",
    "\n",
    "model.compile(optimizer='adam', loss='binary_crossentropy', metrics=['accuracy'])\n",
    "r = model.fit(X_train, y_train, validation_data=(X_test, y_test), epochs=100)\n",
    "\n",
    "print(\"Train score:\", model.evaluate(X_train, y_train))\n",
    "print(\"Test score:\", model.evaluate(X_test, y_test))"
   ]
  },
  {
   "cell_type": "code",
   "execution_count": 23,
   "metadata": {},
   "outputs": [],
   "source": [
    "import matplotlib.pyplot as plt"
   ]
  },
  {
   "cell_type": "code",
   "execution_count": 24,
   "metadata": {},
   "outputs": [
    {
     "data": {
      "text/plain": [
       "<matplotlib.legend.Legend at 0x27ddf7b5790>"
      ]
     },
     "execution_count": 24,
     "metadata": {},
     "output_type": "execute_result"
    },
    {
     "data": {
      "image/png": "[encoded data removed]",
      "text/plain": [
       "<Figure size 640x480 with 1 Axes>"
      ]
     },
     "metadata": {},
     "output_type": "display_data"
    }
   ],
   "source": [
    "plt.plot(r.history['loss'], label='loss')\n",
    "plt.plot(r.history['val_loss'], label='val_loss')\n",
    "plt.legend()"
   ]
  },
  {
   "cell_type": "code",
   "execution_count": 25,
   "metadata": {},
   "outputs": [
    {
     "data": {
      "text/plain": [
       "<matplotlib.legend.Legend at 0x27e1713e700>"
      ]
     },
     "execution_count": 25,
     "metadata": {},
     "output_type": "execute_result"
    },
    {
     "data": {
      "image/png": "[encoded data removed]",
      "text/plain": [
       "<Figure size 640x480 with 1 Axes>"
      ]
     },
     "metadata": {},
     "output_type": "display_data"
    }
   ],
   "source": [
    "plt.plot(r.history['accuracy'], label=\"acc\")\n",
    "plt.plot(r.history['val_accuracy'], label=\"val_acc\")\n",
    "plt.legend()"
   ]
  },
  {
   "cell_type": "code",
   "execution_count": 26,
   "metadata": {},
   "outputs": [
    {
     "data": {
      "text/plain": [
       "<keras.callbacks.History at 0x27dd63aea90>"
      ]
     },
     "execution_count": 26,
     "metadata": {},
     "output_type": "execute_result"
    }
   ],
   "source": [
    "r"
   ]
  },
  {
   "cell_type": "code",
   "execution_count": 27,
   "metadata": {},
   "outputs": [
    {
     "data": {
      "text/plain": [
       "dict_keys(['loss', 'accuracy', 'val_loss', 'val_accuracy'])"
      ]
     },
     "execution_count": 27,
     "metadata": {},
     "output_type": "execute_result"
    }
   ],
   "source": [
    "r.history.keys()"
   ]
  },
  {
   "cell_type": "code",
   "execution_count": 28,
   "metadata": {},
   "outputs": [
    {
     "name": "stdout",
     "output_type": "stream",
     "text": [
      "6/6 [==============================] - 0s 3ms/step - loss: 0.0863 - accuracy: 0.9840\n",
      "[0.08630384504795074, 0.9840425252914429]\n"
     ]
    }
   ],
   "source": [
    "print(model.evaluate(X_test, y_test))"
   ]
  },
  {
   "cell_type": "code",
   "execution_count": 29,
   "metadata": {},
   "outputs": [
    {
     "name": "stdout",
     "output_type": "stream",
     "text": [
      "6/6 [==============================] - 0s 1ms/step\n"
     ]
    },
    {
     "data": {
      "text/plain": [
       "array([[6.43637538e-01],\n",
       "       [3.19486335e-02],\n",
       "       [5.91557696e-02],\n",
       "       [1.18283462e-03],\n",
       "       [8.61664414e-01],\n",
       "       [9.92621660e-01],\n",
       "       [1.18387339e-03],\n",
       "       [9.80755627e-01],\n",
       "       [9.79989350e-01],\n",
       "       [8.32007945e-01],\n",
       "       [9.78706062e-01],\n",
       "       [9.88837242e-01],\n",
       "       [1.74935814e-03],\n",
       "       [1.68275833e-03],\n",
       "       [9.86135364e-01],\n",
       "       [8.17519394e-05],\n",
       "       [9.73516881e-01],\n",
       "       [9.88843799e-01],\n",
       "       [9.70691562e-01],\n",
       "       [2.43424482e-04],\n",
       "       [9.67562795e-01],\n",
       "       [2.21430540e-01],\n",
       "       [9.92925763e-01],\n",
       "       [3.39861144e-03],\n",
       "       [3.67803797e-02],\n",
       "       [9.87755120e-01],\n",
       "       [9.80447650e-01],\n",
       "       [9.93158519e-01],\n",
       "       [1.03839405e-03],\n",
       "       [9.46836829e-01],\n",
       "       [1.60128076e-03],\n",
       "       [4.70321067e-02],\n",
       "       [6.60477877e-01],\n",
       "       [9.80032861e-01],\n",
       "       [9.99652624e-01],\n",
       "       [9.54135001e-01],\n",
       "       [9.95270073e-01],\n",
       "       [9.89013076e-01],\n",
       "       [7.43812978e-01],\n",
       "       [9.92750883e-01],\n",
       "       [1.31375164e-01],\n",
       "       [8.23217094e-01],\n",
       "       [3.77979875e-02],\n",
       "       [9.22712386e-01],\n",
       "       [8.74574661e-01],\n",
       "       [9.74809587e-01],\n",
       "       [9.79534745e-01],\n",
       "       [2.06745346e-03],\n",
       "       [9.91605997e-01],\n",
       "       [8.80162776e-01],\n",
       "       [5.08107594e-04],\n",
       "       [8.81428778e-01],\n",
       "       [9.72218692e-01],\n",
       "       [7.98503458e-01],\n",
       "       [9.99046147e-01],\n",
       "       [6.03494495e-02],\n",
       "       [3.13380420e-01],\n",
       "       [1.75228994e-02],\n",
       "       [9.98066127e-01],\n",
       "       [9.84517634e-01],\n",
       "       [3.03962845e-02],\n",
       "       [9.34758186e-01],\n",
       "       [4.47255298e-02],\n",
       "       [1.40541885e-02],\n",
       "       [9.85491395e-01],\n",
       "       [9.94355798e-01],\n",
       "       [9.15649056e-01],\n",
       "       [6.42142519e-02],\n",
       "       [1.38945370e-05],\n",
       "       [9.58809614e-01],\n",
       "       [9.94127631e-01],\n",
       "       [9.81431723e-01],\n",
       "       [9.94223773e-01],\n",
       "       [7.24924028e-01],\n",
       "       [9.20487821e-01],\n",
       "       [8.90807540e-04],\n",
       "       [8.83082569e-01],\n",
       "       [9.32837665e-01],\n",
       "       [9.23104942e-01],\n",
       "       [1.74568575e-02],\n",
       "       [2.33834088e-01],\n",
       "       [7.98284888e-01],\n",
       "       [2.87114563e-06],\n",
       "       [9.93269503e-01],\n",
       "       [8.36934149e-01],\n",
       "       [2.69366521e-02],\n",
       "       [2.92838607e-02],\n",
       "       [7.98690796e-01],\n",
       "       [9.91707265e-01],\n",
       "       [9.27978396e-01],\n",
       "       [9.86848056e-01],\n",
       "       [2.75857896e-01],\n",
       "       [4.64413136e-01],\n",
       "       [9.97059107e-01],\n",
       "       [2.58457963e-04],\n",
       "       [2.61496842e-01],\n",
       "       [1.56886280e-01],\n",
       "       [2.77461767e-01],\n",
       "       [9.44515944e-01],\n",
       "       [9.85776722e-01],\n",
       "       [9.79321003e-01],\n",
       "       [9.65772688e-01],\n",
       "       [8.48739073e-02],\n",
       "       [9.77476299e-01],\n",
       "       [9.97894347e-01],\n",
       "       [8.39956760e-01],\n",
       "       [9.75377917e-01],\n",
       "       [9.94346440e-01],\n",
       "       [9.97042000e-01],\n",
       "       [8.19552224e-03],\n",
       "       [2.82646447e-01],\n",
       "       [9.93192732e-01],\n",
       "       [8.83192122e-01],\n",
       "       [9.04186547e-01],\n",
       "       [9.96114135e-01],\n",
       "       [7.99425900e-01],\n",
       "       [9.81213272e-01],\n",
       "       [2.76433919e-02],\n",
       "       [2.90274102e-06],\n",
       "       [9.98217165e-01],\n",
       "       [9.41752315e-01],\n",
       "       [9.95209396e-01],\n",
       "       [9.97406304e-01],\n",
       "       [9.39630508e-01],\n",
       "       [8.74542415e-01],\n",
       "       [2.86347307e-02],\n",
       "       [9.96545613e-01],\n",
       "       [9.97651756e-01],\n",
       "       [9.95537043e-01],\n",
       "       [6.15984201e-02],\n",
       "       [9.48922396e-01],\n",
       "       [9.93682265e-01],\n",
       "       [1.14630404e-06],\n",
       "       [9.96531069e-01],\n",
       "       [9.72546875e-01],\n",
       "       [9.31657612e-01],\n",
       "       [8.60558689e-01],\n",
       "       [9.18165922e-01],\n",
       "       [2.98852772e-02],\n",
       "       [2.45596677e-01],\n",
       "       [1.80761684e-02],\n",
       "       [9.98092711e-01],\n",
       "       [9.68274117e-01],\n",
       "       [9.75300252e-01],\n",
       "       [9.69517887e-01],\n",
       "       [8.29992890e-01],\n",
       "       [9.86158431e-01],\n",
       "       [8.50520074e-01],\n",
       "       [8.44222724e-01],\n",
       "       [9.96089995e-01],\n",
       "       [1.60928935e-01],\n",
       "       [4.84365592e-06],\n",
       "       [9.68632221e-01],\n",
       "       [9.44779873e-01],\n",
       "       [9.85957384e-01],\n",
       "       [5.61339315e-04],\n",
       "       [5.36313621e-07],\n",
       "       [5.66194914e-02],\n",
       "       [7.28788611e-04],\n",
       "       [8.12898397e-01],\n",
       "       [9.96096909e-01],\n",
       "       [9.85235929e-01],\n",
       "       [8.46761584e-01],\n",
       "       [9.70462739e-01],\n",
       "       [9.76371050e-01],\n",
       "       [6.88012064e-01],\n",
       "       [1.00741319e-01],\n",
       "       [9.94723320e-01],\n",
       "       [9.76935506e-01],\n",
       "       [9.41951334e-01],\n",
       "       [7.85942078e-01],\n",
       "       [9.51462150e-01],\n",
       "       [9.99272883e-01],\n",
       "       [7.53062010e-01],\n",
       "       [9.98005092e-01],\n",
       "       [9.96515989e-01],\n",
       "       [2.92419374e-01],\n",
       "       [9.78553891e-01],\n",
       "       [9.36709464e-01],\n",
       "       [7.98262537e-01],\n",
       "       [9.94477212e-01],\n",
       "       [9.90114927e-01],\n",
       "       [8.83614557e-05],\n",
       "       [1.96716473e-01],\n",
       "       [9.37623382e-01],\n",
       "       [1.81550987e-03],\n",
       "       [9.96005952e-01],\n",
       "       [8.47440004e-01]], dtype=float32)"
      ]
     },
     "execution_count": 29,
     "metadata": {},
     "output_type": "execute_result"
    }
   ],
   "source": [
    "P = model.predict(X_test)\n",
    "P"
   ]
  },
  {
   "cell_type": "code",
   "execution_count": 30,
   "metadata": {},
   "outputs": [
    {
     "ename": "TypeError",
     "evalue": "'int' object is not callable",
     "output_type": "error",
     "traceback": [
      "\u001b[1;31m---------------------------------------------------------------------------\u001b[0m",
      "\u001b[1;31mTypeError\u001b[0m                                 Traceback (most recent call last)",
      "Cell \u001b[1;32mIn[30], line 2\u001b[0m\n\u001b[0;32m      1\u001b[0m P \u001b[39m=\u001b[39m np\u001b[39m.\u001b[39mround(P)\u001b[39m.\u001b[39mflatten()\n\u001b[1;32m----> 2\u001b[0m P\u001b[39m.\u001b[39;49msize()\n",
      "\u001b[1;31mTypeError\u001b[0m: 'int' object is not callable"
     ]
    }
   ],
   "source": [
    "P = np.round(P).flatten()\n",
    "P.size()"
   ]
  },
  {
   "cell_type": "code",
   "execution_count": null,
   "metadata": {},
   "outputs": [
    {
     "name": "stdout",
     "output_type": "stream",
     "text": [
      "Manually calculated accuracy: 0.9893617021276596\n",
      "6/6 [==============================] - 0s 3ms/step - loss: 0.0595 - accuracy: 0.9894\n",
      "Evaluate output: [0.05953194573521614, 0.9893617033958435]\n"
     ]
    }
   ],
   "source": [
    "print(f\"Manually calculated accuracy: {np.mean(P == y_test)}\")\n",
    "print(f\"Evaluate output: {model.evaluate(X_test, y_test)}\")"
   ]
  },
  {
   "cell_type": "code",
   "execution_count": null,
   "metadata": {},
   "outputs": [],
   "source": []
  }
 ],
 "metadata": {
  "kernelspec": {
   "display_name": "tf",
   "language": "python",
   "name": "python3"
  },
  "language_info": {
   "codemirror_mode": {
    "name": "ipython",
    "version": 3
   },
   "file_extension": ".py",
   "mimetype": "text/x-python",
   "name": "python",
   "nbconvert_exporter": "python",
   "pygments_lexer": "ipython3",
   "version": "3.9.17"
  },
  "orig_nbformat": 4
 },
 "nbformat": 4,
 "nbformat_minor": 2
}
