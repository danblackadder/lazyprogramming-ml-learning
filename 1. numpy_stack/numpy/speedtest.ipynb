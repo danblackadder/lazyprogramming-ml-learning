{
 "cells": [
  {
   "cell_type": "code",
   "execution_count": 18,
   "metadata": {},
   "outputs": [
    {
     "name": "stdout",
     "output_type": "stream",
     "text": [
      "dt1 / dt2: 28.58281562216167\n"
     ]
    }
   ],
   "source": [
    "import numpy as np\n",
    "from datetime import datetime\n",
    "\n",
    "a = np.random.randn(100)\n",
    "b = np.random.randn(100)\n",
    "T = 100000\n",
    "\n",
    "def slow_dot_product(a, b):\n",
    "  result = 0\n",
    "  for e, f in zip(a, b):\n",
    "    result += e*f\n",
    "  return result\n",
    "\n",
    "t0 = datetime.now()\n",
    "for t in range(T):\n",
    "  slow_dot_product(a, b)\n",
    "dt1 = datetime.now() - t0\n",
    "\n",
    "t0 = datetime.now()\n",
    "for t in range(T):\n",
    "  a.dot(b)\n",
    "dt2 = datetime.now() - t0\n",
    "\n",
    "print(f\"dt1 / dt2: {dt1.total_seconds() / dt2.total_seconds()}\")"
   ]
  },
  {
   "cell_type": "code",
   "execution_count": 34,
   "metadata": {},
   "outputs": [],
   "source": [
    "n=2000\n",
    "\n",
    "A = np.random.random((n,n))\n",
    "B = np.random.random((n,n))\n",
    "\n",
    "product = np.zeros((n,n))\n",
    "def slowmultiplication(A,B):\n",
    "  for i in range(len(A)):       # iterating by rows in A\n",
    "    for j in range(len(B[0])):  # iterating by columns in B\n",
    "      for k in range(2):        # iterating by rows in B\n",
    "        product[i,j] += A[i,k]*B[k,j]\n",
    "  return product\n",
    "\n",
    "\n",
    "fast = None\n",
    "slow = None\n",
    "\n",
    "t0 = datetime.now()\n",
    "for t in range(T):\n",
    "  slow = slowmultiplication(A, B)\n",
    "dt1 = datetime.now() - t0\n",
    "\n",
    "t0 = datetime.now()\n",
    "for t in range(T):\n",
    "  fast = A.dot(B)\n",
    "dt2 = datetime.now() - t0\n",
    "\n",
    "print(slow)\n",
    "print(fast)\n",
    "print(f\"dt1 / dt2: {dt1.total_seconds() / dt2.total_seconds()}\")\n"
   ]
  }
 ],
 "metadata": {
  "kernelspec": {
   "display_name": "Python 3",
   "language": "python",
   "name": "python3"
  },
  "language_info": {
   "codemirror_mode": {
    "name": "ipython",
    "version": 3
   },
   "file_extension": ".py",
   "mimetype": "text/x-python",
   "name": "python",
   "nbconvert_exporter": "python",
   "pygments_lexer": "ipython3",
   "version": "3.9.13"
  },
  "orig_nbformat": 4
 },
 "nbformat": 4,
 "nbformat_minor": 2
}
