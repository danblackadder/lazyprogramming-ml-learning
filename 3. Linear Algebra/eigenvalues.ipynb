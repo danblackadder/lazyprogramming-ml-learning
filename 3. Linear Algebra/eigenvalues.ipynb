{
  "cells": [
    {
      "cell_type": "code",
      "execution_count": 1,
      "metadata": {
        "id": "41YOZzEuR-Uv"
      },
      "outputs": [],
      "source": [
        "import numpy as np"
      ]
    },
    {
      "cell_type": "code",
      "execution_count": 2,
      "metadata": {
        "id": "GOZaycXwSBWZ"
      },
      "outputs": [],
      "source": [
        "# EXERCISE: TRY YOURSELF\n",
        "A = np.array([[-2, 1], [12, -3]])"
      ]
    },
    {
      "cell_type": "code",
      "execution_count": 3,
      "metadata": {
        "id": "TrgE0DBwSV3h"
      },
      "outputs": [],
      "source": [
        "evals, evecs = np.linalg.eig(A)"
      ]
    },
    {
      "cell_type": "code",
      "execution_count": 4,
      "metadata": {
        "colab": {
          "base_uri": "https://localhost:8080/"
        },
        "id": "_HBQcQ_MSeUf",
        "outputId": "43552c0f-0103-4815-cb2e-bade64c90051"
      },
      "outputs": [
        {
          "data": {
            "text/plain": [
              "array([ 1., -6.])"
            ]
          },
          "execution_count": 4,
          "metadata": {},
          "output_type": "execute_result"
        }
      ],
      "source": [
        "evals"
      ]
    },
    {
      "cell_type": "code",
      "execution_count": 5,
      "metadata": {
        "colab": {
          "base_uri": "https://localhost:8080/"
        },
        "id": "ki9mNRx6SexX",
        "outputId": "1530ded8-2c80-40da-b7c4-675b3428b201"
      },
      "outputs": [
        {
          "data": {
            "text/plain": [
              "array([[ 0.31622777, -0.24253563],\n",
              "       [ 0.9486833 ,  0.9701425 ]])"
            ]
          },
          "execution_count": 5,
          "metadata": {},
          "output_type": "execute_result"
        }
      ],
      "source": [
        "evecs"
      ]
    },
    {
      "cell_type": "code",
      "execution_count": 6,
      "metadata": {
        "colab": {
          "base_uri": "https://localhost:8080/"
        },
        "id": "6wFX2LHlSflP",
        "outputId": "4a34a876-fba8-4f13-a410-3a2046153ff6"
      },
      "outputs": [
        {
          "data": {
            "text/plain": [
              "array([0.9486833, 0.9486833])"
            ]
          },
          "execution_count": 6,
          "metadata": {},
          "output_type": "execute_result"
        }
      ],
      "source": [
        "evecs[:,0] / np.array([1/3, 1])"
      ]
    },
    {
      "cell_type": "code",
      "execution_count": 7,
      "metadata": {
        "colab": {
          "base_uri": "https://localhost:8080/"
        },
        "id": "plZM-wI_S8iF",
        "outputId": "569ccf24-d835-44d6-c9e4-14f4c03781f7"
      },
      "outputs": [
        {
          "data": {
            "text/plain": [
              "array([0.9701425, 0.9701425])"
            ]
          },
          "execution_count": 7,
          "metadata": {},
          "output_type": "execute_result"
        }
      ],
      "source": [
        "evecs[:,1] / np.array([-1/4, 1])"
      ]
    },
    {
      "cell_type": "code",
      "execution_count": 8,
      "metadata": {
        "colab": {
          "base_uri": "https://localhost:8080/"
        },
        "id": "_DWE7rMTJZ4w",
        "outputId": "54c9b227-95f7-43fb-8db4-dc2a6306e046"
      },
      "outputs": [
        {
          "data": {
            "text/plain": [
              "1.0000000000000002"
            ]
          },
          "execution_count": 8,
          "metadata": {},
          "output_type": "execute_result"
        }
      ],
      "source": [
        "evecs[:,0] @ evecs[:,0]"
      ]
    },
    {
      "cell_type": "code",
      "execution_count": 9,
      "metadata": {
        "colab": {
          "base_uri": "https://localhost:8080/"
        },
        "id": "GHlNbjqsTDOL",
        "outputId": "a9ccf6fb-ddf4-4e46-cde8-996fafc35852"
      },
      "outputs": [
        {
          "data": {
            "text/plain": [
              "0.8436614877321075"
            ]
          },
          "execution_count": 9,
          "metadata": {},
          "output_type": "execute_result"
        }
      ],
      "source": [
        "# EXERCISE: ARE THE EIGENVECTORS ORTHOGONAL?\n",
        "evecs[:,0].dot(evecs[:,1])"
      ]
    },
    {
      "cell_type": "code",
      "execution_count": 10,
      "metadata": {
        "id": "I1WlSyH2TIM6"
      },
      "outputs": [],
      "source": [
        "# A^TA and AA^T have the same eigenvalues\n",
        "A = np.random.randn(5, 3)"
      ]
    },
    {
      "cell_type": "code",
      "execution_count": 11,
      "metadata": {
        "colab": {
          "base_uri": "https://localhost:8080/"
        },
        "id": "mR36djWUTUbN",
        "outputId": "6ff61ed1-b230-40a1-b2a8-049e67bb842d"
      },
      "outputs": [
        {
          "data": {
            "text/plain": [
              "array([3.20865468, 2.0118694 , 0.3243978 ])"
            ]
          },
          "execution_count": 11,
          "metadata": {},
          "output_type": "execute_result"
        }
      ],
      "source": [
        "evals, _ = np.linalg.eig(A.T @ A)\n",
        "evals"
      ]
    },
    {
      "cell_type": "code",
      "execution_count": 12,
      "metadata": {
        "colab": {
          "base_uri": "https://localhost:8080/"
        },
        "id": "kU2iYtqdTZP0",
        "outputId": "cc72f8dd-3a71-4249-a426-ccb8e3557bb6"
      },
      "outputs": [
        {
          "data": {
            "text/plain": [
              "array([ 3.20865468e+00,  2.01186940e+00,  3.24397802e-01, -4.81847696e-17,\n",
              "        4.98343978e-17])"
            ]
          },
          "execution_count": 12,
          "metadata": {},
          "output_type": "execute_result"
        }
      ],
      "source": [
        "evals, _ = np.linalg.eig(A @ A.T)\n",
        "evals"
      ]
    },
    {
      "cell_type": "code",
      "execution_count": 13,
      "metadata": {
        "colab": {
          "base_uri": "https://localhost:8080/"
        },
        "id": "3JQIRyu0TbFk",
        "outputId": "f653bc06-6f8e-423e-b77e-1b4b08678f47"
      },
      "outputs": [
        {
          "data": {
            "text/plain": [
              "array([0.3243978 , 2.0118694 , 3.20865468])"
            ]
          },
          "execution_count": 13,
          "metadata": {},
          "output_type": "execute_result"
        }
      ],
      "source": [
        "# USE eigh FOR SYMMETRIC/HERMITIAN MATRICES\n",
        "evals, _ = np.linalg.eigh(A.T @ A)\n",
        "evals"
      ]
    },
    {
      "cell_type": "code",
      "execution_count": 14,
      "metadata": {
        "colab": {
          "base_uri": "https://localhost:8080/"
        },
        "id": "MXloQIUPTqKb",
        "outputId": "dc525cb9-999b-4fa5-c59e-dea33f914155"
      },
      "outputs": [
        {
          "data": {
            "text/plain": [
              "array([-1.28896079e-16,  1.57519016e-16,  3.24397802e-01,  2.01186940e+00,\n",
              "        3.20865468e+00])"
            ]
          },
          "execution_count": 14,
          "metadata": {},
          "output_type": "execute_result"
        }
      ],
      "source": [
        "evals, _ = np.linalg.eigh(A @ A.T)\n",
        "evals"
      ]
    },
    {
      "cell_type": "code",
      "execution_count": 15,
      "metadata": {
        "id": "PE6JEmPVU3Ll"
      },
      "outputs": [],
      "source": [
        "# WHY ARE ALL THE EIGENVALUES POSITIVE?"
      ]
    },
    {
      "cell_type": "code",
      "execution_count": 16,
      "metadata": {
        "colab": {
          "base_uri": "https://localhost:8080/"
        },
        "id": "5SfptcfNTrf5",
        "outputId": "f852f6c0-8ef1-47ea-cb12-763219db1d3d"
      },
      "outputs": [
        {
          "data": {
            "text/plain": [
              "array([0.3116571 , 0.49705016, 3.08263495])"
            ]
          },
          "execution_count": 16,
          "metadata": {},
          "output_type": "execute_result"
        }
      ],
      "source": [
        "# EIGENVALUES OF INVERSE\n",
        "B = np.linalg.inv(A.T @ A)\n",
        "evals, _ = np.linalg.eigh(B)\n",
        "evals"
      ]
    },
    {
      "cell_type": "code",
      "execution_count": 17,
      "metadata": {
        "colab": {
          "base_uri": "https://localhost:8080/"
        },
        "id": "2TiT7L_OT_7Q",
        "outputId": "c1f75add-3252-4d10-ce25-02215f70e6a3"
      },
      "outputs": [
        {
          "data": {
            "text/plain": [
              "array([0.3116571 , 0.49705016, 3.08263495])"
            ]
          },
          "execution_count": 17,
          "metadata": {},
          "output_type": "execute_result"
        }
      ],
      "source": [
        "evals, _ = np.linalg.eig(A.T @ A)\n",
        "1 / evals"
      ]
    },
    {
      "cell_type": "code",
      "execution_count": 18,
      "metadata": {
        "colab": {
          "base_uri": "https://localhost:8080/"
        },
        "id": "oDo9YB3MUCxv",
        "outputId": "68125091-9bca-488b-8a21-4ad3e98cecd2"
      },
      "outputs": [
        {
          "data": {
            "text/plain": [
              "array([[ 0.12681878,  0.93987975, -0.31708525],\n",
              "       [ 0.39378351,  0.24569318,  0.88575923],\n",
              "       [ 0.91041284, -0.23719385, -0.33895064]])"
            ]
          },
          "execution_count": 18,
          "metadata": {},
          "output_type": "execute_result"
        }
      ],
      "source": [
        "# WILL THE EIGENVECTORS BE ORTHOGONAL?\n",
        "evals, evecs = np.linalg.eigh(A.T @ A)\n",
        "evecs"
      ]
    },
    {
      "cell_type": "code",
      "execution_count": 19,
      "metadata": {
        "colab": {
          "base_uri": "https://localhost:8080/"
        },
        "id": "3Oyl894rUW36",
        "outputId": "ee6185d0-fc81-46b1-8ee6-fea77817851f"
      },
      "outputs": [
        {
          "data": {
            "text/plain": [
              "2.7755575615628914e-17"
            ]
          },
          "execution_count": 19,
          "metadata": {},
          "output_type": "execute_result"
        }
      ],
      "source": [
        "evecs[:,0] @ evecs[:,1]"
      ]
    },
    {
      "cell_type": "code",
      "execution_count": 20,
      "metadata": {
        "colab": {
          "base_uri": "https://localhost:8080/"
        },
        "id": "6W874m8vUa8T",
        "outputId": "6bfb321f-ffcc-4bd1-e808-d8a36589264c"
      },
      "outputs": [
        {
          "data": {
            "text/plain": [
              "0.0"
            ]
          },
          "execution_count": 20,
          "metadata": {},
          "output_type": "execute_result"
        }
      ],
      "source": [
        "evecs[:,0] @ evecs[:,2]"
      ]
    },
    {
      "cell_type": "code",
      "execution_count": 21,
      "metadata": {
        "colab": {
          "base_uri": "https://localhost:8080/"
        },
        "id": "f-jjQNMxUcHD",
        "outputId": "005a2955-a06c-49df-ba3a-d2b44d2be182"
      },
      "outputs": [
        {
          "data": {
            "text/plain": [
              "array([[ 1.00000000e+00,  1.84817720e-17, -5.56158808e-17],\n",
              "       [ 1.84817720e-17,  1.00000000e+00, -2.44711648e-17],\n",
              "       [-5.56158808e-17, -2.44711648e-17,  1.00000000e+00]])"
            ]
          },
          "execution_count": 21,
          "metadata": {},
          "output_type": "execute_result"
        }
      ],
      "source": [
        "evecs @ evecs.T"
      ]
    },
    {
      "cell_type": "code",
      "execution_count": 22,
      "metadata": {
        "colab": {
          "base_uri": "https://localhost:8080/"
        },
        "id": "GIAFtGZdUe6J",
        "outputId": "4ebc4314-81dd-4b58-baa5-5af97364c7ed"
      },
      "outputs": [
        {
          "data": {
            "text/plain": [
              "2.0941156826060605"
            ]
          },
          "execution_count": 22,
          "metadata": {},
          "output_type": "execute_result"
        }
      ],
      "source": [
        "# DETERMINANT\n",
        "np.linalg.det(A.T @ A)"
      ]
    },
    {
      "cell_type": "code",
      "execution_count": 23,
      "metadata": {
        "colab": {
          "base_uri": "https://localhost:8080/"
        },
        "id": "ST6tHPevVBrT",
        "outputId": "7e7fb136-e6f2-4fc0-a87a-f46a8a5d5ca9"
      },
      "outputs": [
        {
          "data": {
            "text/plain": [
              "2.0941156826060654"
            ]
          },
          "execution_count": 23,
          "metadata": {},
          "output_type": "execute_result"
        }
      ],
      "source": [
        "np.prod(evals)"
      ]
    },
    {
      "cell_type": "code",
      "execution_count": 24,
      "metadata": {
        "colab": {
          "base_uri": "https://localhost:8080/"
        },
        "id": "Ak9pf8jUWkuz",
        "outputId": "ad5f1b3e-346b-45fb-a936-ddde87e2190f"
      },
      "outputs": [
        {
          "data": {
            "text/plain": [
              "array([-1.28896079e-16,  1.57519016e-16,  3.24397802e-01,  2.01186940e+00,\n",
              "        3.20865468e+00])"
            ]
          },
          "execution_count": 24,
          "metadata": {},
          "output_type": "execute_result"
        }
      ],
      "source": [
        "# LOW RANK\n",
        "evals, evecs = np.linalg.eigh(A @ A.T)\n",
        "evals"
      ]
    },
    {
      "cell_type": "code",
      "execution_count": 25,
      "metadata": {
        "colab": {
          "base_uri": "https://localhost:8080/"
        },
        "id": "MtDHwgd1WsAc",
        "outputId": "552743a0-f996-4ca8-dd31-530f83a04a8e"
      },
      "outputs": [
        {
          "data": {
            "text/plain": [
              "-4.2518052850505415e-32"
            ]
          },
          "execution_count": 25,
          "metadata": {},
          "output_type": "execute_result"
        }
      ],
      "source": [
        "np.prod(evals)"
      ]
    },
    {
      "cell_type": "code",
      "execution_count": 26,
      "metadata": {
        "id": "lBdzVP4LVDi8"
      },
      "outputs": [],
      "source": [
        "# DIAGONALIZATION\n",
        "A = np.array([[-2, 1], [12, -3]])\n",
        "evals, evecs = np.linalg.eig(A)"
      ]
    },
    {
      "cell_type": "code",
      "execution_count": 27,
      "metadata": {
        "colab": {
          "base_uri": "https://localhost:8080/"
        },
        "id": "bG4xbLgWVcoC",
        "outputId": "a85cfde8-3ea3-4d23-c1dd-b4a88246c052"
      },
      "outputs": [
        {
          "data": {
            "text/plain": [
              "array([[-2.,  1.],\n",
              "       [12., -3.]])"
            ]
          },
          "execution_count": 27,
          "metadata": {},
          "output_type": "execute_result"
        }
      ],
      "source": [
        "evecs @ np.diag(evals) @ np.linalg.inv(evecs)"
      ]
    },
    {
      "cell_type": "code",
      "execution_count": 28,
      "metadata": {
        "colab": {
          "base_uri": "https://localhost:8080/"
        },
        "id": "_hdJCFZrVg4B",
        "outputId": "a2250e64-970d-45aa-fb09-578344a32264"
      },
      "outputs": [
        {
          "data": {
            "text/plain": [
              "array([[ -92,   31],\n",
              "       [ 372, -123]])"
            ]
          },
          "execution_count": 28,
          "metadata": {},
          "output_type": "execute_result"
        }
      ],
      "source": [
        "# MATRIX POWERS\n",
        "A @ A @ A"
      ]
    },
    {
      "cell_type": "code",
      "execution_count": 29,
      "metadata": {
        "colab": {
          "base_uri": "https://localhost:8080/"
        },
        "id": "qiXjK9gmVmHu",
        "outputId": "c8139875-65c3-4231-e637-7c8b98fb3d08"
      },
      "outputs": [
        {
          "data": {
            "text/plain": [
              "array([[ -92.,   31.],\n",
              "       [ 372., -123.]])"
            ]
          },
          "execution_count": 29,
          "metadata": {},
          "output_type": "execute_result"
        }
      ],
      "source": [
        "evecs @ np.diag(evals**3) @ np.linalg.inv(evecs)"
      ]
    },
    {
      "cell_type": "code",
      "execution_count": 30,
      "metadata": {
        "id": "yqdargH7VoEV"
      },
      "outputs": [],
      "source": [
        "# SQUARE ROOT OF A MATRIX\n",
        "X = np.random.randn(3, 3)\n",
        "A = X.T @ X\n",
        "evals, evecs = np.linalg.eig(A)\n",
        "\n",
        "rt = evecs @ np.diag(np.sqrt(evals)) @ np.linalg.inv(evecs)"
      ]
    },
    {
      "cell_type": "code",
      "execution_count": 31,
      "metadata": {
        "colab": {
          "base_uri": "https://localhost:8080/"
        },
        "id": "9pT5DWZVWIEV",
        "outputId": "980489e6-1bb1-4dcc-9caf-db88adc4e92a"
      },
      "outputs": [
        {
          "data": {
            "text/plain": [
              "array([[12.48533881, -2.86000831,  1.41941746],\n",
              "       [-2.86000831,  0.75347724,  0.02507965],\n",
              "       [ 1.41941746,  0.02507965,  1.97360335]])"
            ]
          },
          "execution_count": 31,
          "metadata": {},
          "output_type": "execute_result"
        }
      ],
      "source": [
        "A"
      ]
    },
    {
      "cell_type": "code",
      "execution_count": 32,
      "metadata": {
        "colab": {
          "base_uri": "https://localhost:8080/"
        },
        "id": "vri05xc2VwM0",
        "outputId": "9599c40a-1b24-4715-db2d-955772b44218"
      },
      "outputs": [
        {
          "data": {
            "text/plain": [
              "array([[12.48533881, -2.86000831,  1.41941746],\n",
              "       [-2.86000831,  0.75347724,  0.02507965],\n",
              "       [ 1.41941746,  0.02507965,  1.97360335]])"
            ]
          },
          "execution_count": 32,
          "metadata": {},
          "output_type": "execute_result"
        }
      ],
      "source": [
        "# IS A^1/2 A^1/2 = A?\n",
        "rt @ rt"
      ]
    },
    {
      "cell_type": "code",
      "execution_count": 33,
      "metadata": {
        "id": "mw5Jxv4KV0pD"
      },
      "outputs": [],
      "source": [
        "# NEGATIVE ROOT\n",
        "negrt = evecs @ np.diag(evals**(-0.5)) @ np.linalg.inv(evecs)"
      ]
    },
    {
      "cell_type": "code",
      "execution_count": 34,
      "metadata": {
        "colab": {
          "base_uri": "https://localhost:8080/"
        },
        "id": "rgaW580FWUQq",
        "outputId": "d68ca20b-5c4e-4cd9-983f-157020cdf96b"
      },
      "outputs": [
        {
          "data": {
            "text/plain": [
              "array([[ 1.00000000e+00, -7.80115397e-16,  1.75742060e-17],\n",
              "       [-4.07007059e-15,  1.00000000e+00,  9.71490675e-16],\n",
              "       [ 5.44848885e-16,  8.65828317e-17,  1.00000000e+00]])"
            ]
          },
          "execution_count": 34,
          "metadata": {},
          "output_type": "execute_result"
        }
      ],
      "source": [
        "# IS A^(-1/2) * A * A^(-1/2) = I?\n",
        "negrt @ A @ negrt"
      ]
    },
    {
      "cell_type": "code",
      "execution_count": 35,
      "metadata": {
        "colab": {
          "base_uri": "https://localhost:8080/"
        },
        "id": "9QRY0lPyWZgY",
        "outputId": "4910ac75-d3b2-4bbb-fd92-be9a06bcbb0e"
      },
      "outputs": [
        {
          "data": {
            "text/plain": [
              "array([[ 1.00000000e+00,  1.60624183e-16,  6.29707866e-17],\n",
              "       [ 1.03179652e-16,  1.00000000e+00, -7.56856115e-17],\n",
              "       [-1.02626276e-17,  8.65828317e-17,  1.00000000e+00]])"
            ]
          },
          "execution_count": 35,
          "metadata": {},
          "output_type": "execute_result"
        }
      ],
      "source": [
        "# IS A^1/2 * A^(-1/2) = I?\n",
        "# (A^p)^-1 = (A^-1)^p = A^-p\n",
        "rt @ negrt"
      ]
    },
    {
      "cell_type": "code",
      "execution_count": 42,
      "metadata": {
        "colab": {
          "base_uri": "https://localhost:8080/"
        },
        "id": "wdmg9CcHRnpO",
        "outputId": "1abf778a-8486-4577-fb05-67e3181c619e"
      },
      "outputs": [
        {
          "data": {
            "text/plain": [
              "array([[ 0.26739664, -0.09768673, -0.97686648],\n",
              "       [-0.68783359, -0.01273299, -0.12732961],\n",
              "       [ 0.06350043,  0.46523211,  4.65232002]])"
            ]
          },
          "execution_count": 42,
          "metadata": {},
          "output_type": "execute_result"
        }
      ],
      "source": [
        "# Relationship between rank and non-zero eigenvalues\n",
        "# \"Almost\" a constant multiple\n",
        "A = np.random.randn(3, 3)\n",
        "A[:,2] = 10 * A[:,1] + np.random.randn(3) * 0.000001\n",
        "A"
      ]
    },
    {
      "cell_type": "code",
      "execution_count": 43,
      "metadata": {
        "colab": {
          "base_uri": "https://localhost:8080/"
        },
        "id": "uqBpN9WqRuwS",
        "outputId": "2a513333-23a2-44f1-bea3-79f4a698e75b"
      },
      "outputs": [
        {
          "data": {
            "text/plain": [
              "array([-1.80283098e-07,  2.66216758e-01,  4.64076710e+00])"
            ]
          },
          "execution_count": 43,
          "metadata": {},
          "output_type": "execute_result"
        }
      ],
      "source": [
        "evals, evecs = np.linalg.eig(A)\n",
        "evals"
      ]
    },
    {
      "cell_type": "code",
      "execution_count": null,
      "metadata": {
        "id": "IQLAvSTXRzN2"
      },
      "outputs": [],
      "source": [
        "# Exercise: try some experiments with SVD to show that\n",
        "# rank = number of non-zero eigenvalues"
      ]
    },
    {
      "cell_type": "code",
      "execution_count": null,
      "metadata": {
        "id": "S0acXBWCxiJL"
      },
      "outputs": [],
      "source": []
    },
    {
      "cell_type": "code",
      "execution_count": null,
      "metadata": {
        "id": "oaG3igwFxiQU"
      },
      "outputs": [],
      "source": []
    },
    {
      "cell_type": "code",
      "execution_count": null,
      "metadata": {
        "id": "PzQJleyoxiWi"
      },
      "outputs": [],
      "source": []
    },
    {
      "cell_type": "markdown",
      "metadata": {
        "id": "PFJd4PmsxjKb"
      },
      "source": [
        "![](https://deeplearningcourses.com/notebooks_v3_pxl?sc=aykDBExKV7EmuDqflbxRHg&n=Eigenvalues)"
      ]
    }
  ],
  "metadata": {
    "colab": {
      "provenance": []
    },
    "kernelspec": {
      "display_name": "Python 3",
      "name": "python3"
    },
    "language_info": {
      "name": "python",
      "version": "3.9.13"
    },
    "sc": "aykDBExKV7EmuDqflbxRHg"
  },
  "nbformat": 4,
  "nbformat_minor": 0
}
