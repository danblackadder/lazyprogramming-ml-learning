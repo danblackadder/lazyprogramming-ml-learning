{
 "cells": [
  {
   "cell_type": "code",
   "execution_count": 1,
   "metadata": {},
   "outputs": [],
   "source": [
    "import numpy as np"
   ]
  },
  {
   "cell_type": "code",
   "execution_count": 4,
   "metadata": {},
   "outputs": [
    {
     "name": "stdout",
     "output_type": "stream",
     "text": [
      "Portfolio has increased by 17.0%\n"
     ]
    }
   ],
   "source": [
    "# Portfolio Returns\n",
    "\n",
    "# 40% into Apple\n",
    "# 60% into Google\n",
    "# Apple increased 20%\n",
    "# Google increased 15%\n",
    "# How much has portfolio increased?\n",
    "\n",
    "w = np.array([0.4, 0.6])\n",
    "r = np.array([0.2, 0.15])\n",
    "increase_percentage = w.dot(r)\n",
    "print(f\"Portfolio has increased by {increase_percentage*100}%\")\n"
   ]
  },
  {
   "cell_type": "code",
   "execution_count": 7,
   "metadata": {},
   "outputs": [
    {
     "name": "stdout",
     "output_type": "stream",
     "text": [
      "2.23606797749979\n",
      "2.23606797749979\n",
      "2.23606797749979\n",
      "2.23606797749979\n",
      "2.23606797749979\n"
     ]
    }
   ],
   "source": [
    "# Computing the magnitude of a vector\n",
    "\n",
    "# different ways to get the magnitude of a vector\n",
    "\n",
    "x = np.array([2, 1])\n",
    "print(np.sqrt(x[0]**2 + x[1]**2))\n",
    "print(np.sqrt((x * x).sum()))\n",
    "print(np.sqrt(x.dot(x)))\n",
    "# @ is same as dot of a product\n",
    "print(np.sqrt(x @ x))\n",
    "# linalg norm function just gets the magnitude directly\n",
    "print(np.linalg.norm(x))"
   ]
  },
  {
   "cell_type": "code",
   "execution_count": 9,
   "metadata": {},
   "outputs": [
    {
     "name": "stdout",
     "output_type": "stream",
     "text": [
      "-1.1071487177940904\n",
      "0.4636476090008061\n",
      "-1.5707963267948966\n"
     ]
    }
   ],
   "source": [
    "# Finding the angle between vectors\n",
    "\n",
    "x = np.array([2, 1])\n",
    "y = np.array([-1, 2])\n",
    "\n",
    "a1 = np.arctan(x[1] / x[0])\n",
    "a2 = np.arctan(y[1] / y[0])\n",
    "print(a2)\n",
    "print(a1)\n",
    "print(a2 - a1)"
   ]
  },
  {
   "cell_type": "code",
   "execution_count": 11,
   "metadata": {},
   "outputs": [],
   "source": [
    "# adjustment for quadrant working anti clockwise from x\n",
    "# quadrant 1 (x+, y+): arctan(y / x)\n",
    "# quadrant 2 (x-, y+): arctan(y / x) + pi\n",
    "# quadrant 3 (x-, y-): arctan(y / x) + pi\n",
    "# quadrant 4 (x+, y-): arctan(y / x) + 2pi"
   ]
  },
  {
   "cell_type": "code",
   "execution_count": 12,
   "metadata": {},
   "outputs": [
    {
     "name": "stdout",
     "output_type": "stream",
     "text": [
      "2.0344439357957027\n",
      "0.4636476090008061\n",
      "1.5707963267948966\n"
     ]
    }
   ],
   "source": [
    "a1 = np.arctan(x[1] / x[0])\n",
    "a2 = np.arctan(y[1] / y[0]) + np.pi\n",
    "print(a2)\n",
    "print(a1)\n",
    "print(a2 - a1)"
   ]
  },
  {
   "cell_type": "code",
   "execution_count": 14,
   "metadata": {},
   "outputs": [
    {
     "name": "stdout",
     "output_type": "stream",
     "text": [
      "1.5707963267948966\n"
     ]
    }
   ],
   "source": [
    "# we can use the dot product to calculate the angle between the vector\n",
    "lenxleny = np.linalg.norm(x) * np.linalg.norm(y)\n",
    "print(np.arccos(x.dot(y) / lenxleny))"
   ]
  },
  {
   "cell_type": "code",
   "execution_count": 15,
   "metadata": {},
   "outputs": [
    {
     "name": "stdout",
     "output_type": "stream",
     "text": [
      "1.6801229259468808\n"
     ]
    },
    {
     "ename": "",
     "evalue": "",
     "output_type": "error",
     "traceback": [
      "\u001b[1;31mThe Kernel crashed while executing code in the the current cell or a previous cell. Please review the code in the cell(s) to identify a possible cause of the failure. Click <a href='https://aka.ms/vscodeJupyterKernelCrash'>here</a> for more info. View Jupyter <a href='command:jupyter.viewOutput'>log</a> for further details."
     ]
    }
   ],
   "source": [
    "# why the next method is more convenient:\n",
    "# when we have bigger vectors its much easier than referencing each index... obviously\n",
    "\n",
    "x = np.array([1, 2, 1])\n",
    "y = np.array([-2, -1, 3])\n",
    "lenxleny = np.linalg.norm(x) * np.linalg.norm(y)\n",
    "print(np.arccos(x.dot(y) / lenxleny))"
   ]
  }
 ],
 "metadata": {
  "kernelspec": {
   "display_name": "Python 3",
   "language": "python",
   "name": "python3"
  },
  "language_info": {
   "codemirror_mode": {
    "name": "ipython",
    "version": 3
   },
   "file_extension": ".py",
   "mimetype": "text/x-python",
   "name": "python",
   "nbconvert_exporter": "python",
   "pygments_lexer": "ipython3",
   "version": "3.9.13"
  },
  "orig_nbformat": 4
 },
 "nbformat": 4,
 "nbformat_minor": 2
}
